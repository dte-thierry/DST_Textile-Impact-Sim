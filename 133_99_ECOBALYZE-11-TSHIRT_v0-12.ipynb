{
 "cells": [
  {
   "cell_type": "markdown",
   "id": "59b37832-086d-4c98-b2b3-fb54cf706cd0",
   "metadata": {},
   "source": [
    "<a name=\"anchorUp\" />\n",
    "\n",
    "<img src=\"./00-logo_datascientest.png\" alt=\"image\" style=\"width:250px;height:auto;\">\n",
    "\n",
    "# FORMATION : Data Engineer\n",
    "# PROJET : Impact Textile avec EcoBalyze\n",
    "# 01 - Collecte - tshirt"
   ]
  },
  {
   "cell_type": "markdown",
   "id": "52a30bc5-6930-4011-a634-894172225e23",
   "metadata": {},
   "source": [
    "## Temps Partiel (9 mois) - jan24_continu_de / cde_projet_ecobalyze"
   ]
  },
  {
   "cell_type": "markdown",
   "id": "b28c223c-ecc1-4823-b3f9-2aeab803828a",
   "metadata": {
    "tags": []
   },
   "source": [
    "### Dernière Mise A Jour du Document : Ven. 31/05/2024 - Version : 0.12"
   ]
  },
  {
   "cell_type": "markdown",
   "id": "3ffbdea2-d92d-404a-90dd-6a5b91e6d7db",
   "metadata": {},
   "source": [
    "<div style=\"padding-right: 200px;\">\n",
    "\n",
    "---\n",
    "    \n",
    "</div>"
   ]
  },
  {
   "cell_type": "markdown",
   "id": "b423a90c-e861-4ac5-ac94-cf7a5d583b6e",
   "metadata": {},
   "source": [
    "<a name=\"summaryUp\" />\n",
    "\n",
    "## Sommaire"
   ]
  },
  {
   "cell_type": "markdown",
   "id": "c7c92974-c889-450b-b94f-7f97d445ade9",
   "metadata": {},
   "source": [
    "<a name=\"summaryUp-3-A\" />\n",
    "\n",
    "[`Calcul & Collecte des données - tshirt`](#anchor03)\n",
    "\n",
    "- [<u>Exemple</u>: Génération d'un T-shirt avec des données aléatoires](#anchor03_C1-43-13) \n",
    "    - [<b>Fonction</b>: get_random_mass()](#anchor03_C1-43-01)\n",
    "    - [<b>Fonction</b>: get_random_country()](#anchor03_C1-43-02)    \n",
    "    - [<b>Fonction</b>: get_random_airTransportRatio()](#anchor03_C1-43-03)   \n",
    "    - [<b>Fonction</b>: get_random_price_tshirt()](#anchor03_C1-43-04)    \n",
    "    - [<b>Fonction</b>: get_random_traceability()](#anchor03_C1-43-05)   \n",
    "    - [<b>Fonction</b>: get_random_business()](#anchor03_C1-43-06) \n",
    "    - [<b>Fonction</b>: get_random_fabricProcess()](#anchor03_C1-43-07)   \n",
    "    - [<b>Fonction</b>: get_random_marketingDuration()](#anchor03_C1-43-08)     \n",
    "    - [<b>Fonction</b>: get_random_numberOfReferences()](#anchor03_C1-43-09)    \n",
    "    - [<b>Fonction</b>: get_random_materials()](#anchor03_C1-43-10)  \n",
    "    - [<b>Fonction</b>: choose_random_materials_tshirt()](#anchor03_C1-43-11)                \n",
    "    - [<b>Fonction</b>: `get_random_data_tshirt()`](#anchor03_C1-43-12)"
   ]
  },
  {
   "cell_type": "markdown",
   "id": "d006a7cc-c844-48af-b3a7-b55ac82480ff",
   "metadata": {},
   "source": [
    "- [<u>Exemple</u>: Génération aléatoire d'une liste de T-shirts et sauvegarde en Json / CSV](#anchor03_C1-44-02)  \n",
    "    - [<b>Fonction</b>: `create_random_tshirts()`](#anchor03_C1-44-01)"
   ]
  },
  {
   "cell_type": "markdown",
   "id": "7e4bf611-f58c-4f72-a415-468f99d5ce07",
   "metadata": {},
   "source": [
    "<a name=\"summaryUp-4-A\" />\n",
    "\n",
    "[`Créer une BDD MongoDB Atlas`](#anchor04)\n",
    "- [<u>Exemple</u>: Créer un cluster MongoDB Atlas et importer un fichier JSON ou CSV](#anchor04_C1-43)"
   ]
  },
  {
   "cell_type": "markdown",
   "id": "c69b89dd-8120-4ccd-91ad-eb3378890950",
   "metadata": {},
   "source": [
    "|                                |                                 |\n",
    "|:--:                            |:--:                             |\n",
    "| [(Aller au début)](#anchorUp)  | [(Aller à la fin)](#anchorDown) |"
   ]
  },
  {
   "cell_type": "markdown",
   "id": "3bfa7117-c1b9-4180-aecc-203cac26fd5b",
   "metadata": {},
   "source": [
    "### <a name=\"anchor03\" />Calcul & Collecte des données"
   ]
  },
  {
   "cell_type": "markdown",
   "id": "4f3370e9-3ae2-4b1f-bf34-4f949c9d65c6",
   "metadata": {},
   "source": [
    "##### <a name=\"anchor03_C1-43\" /><u>Exemple</u> : Génération d'un T-Shirt avec des données aléatoires "
   ]
  },
  {
   "cell_type": "markdown",
   "id": "c89c8846-0da6-4548-b093-52c8484f64a9",
   "metadata": {},
   "source": [
    "###### <a name=\"anchor03_C1-43-01\" /><b>Fonction</b> : get_random_mass()"
   ]
  },
  {
   "cell_type": "code",
   "execution_count": 1,
   "id": "5260cded-9ed0-4fed-81b9-ae3795331833",
   "metadata": {},
   "outputs": [],
   "source": [
    "import numpy as np\n",
    "\n",
    "# mass : masse du produit fini, exprimée en kilogrammes. Min 0.10 , Max 0.30 , par pas de 0.03\n",
    "def get_random_mass(min=0.1, max=0.3, pas=0.03):\n",
    "    # Générer une valeur de masse aléatoire entre 0.1 et 0.3 avec un pas de 0.03\n",
    "    mass = np.random.choice(np.arange(min, max, pas))\n",
    "    return mass\n"
   ]
  },
  {
   "cell_type": "markdown",
   "id": "83ac4bb2-9063-4214-be6f-f416abc30d7c",
   "metadata": {},
   "source": [
    "|                                    | \n",
    "|:--:                                |\n",
    "| [(Retour au sommaire)](#summaryUp-3-A) |"
   ]
  },
  {
   "cell_type": "markdown",
   "id": "f9dddbea-3c7d-48d4-b4fc-d7e9918dd8f2",
   "metadata": {},
   "source": [
    "###### <a name=\"anchor03_C1-43-02\" /><b>Fonction</b> : get_random_country()"
   ]
  },
  {
   "cell_type": "code",
   "execution_count": 2,
   "id": "1ac8bdcb-352b-4949-b552-738fc0a76f74",
   "metadata": {},
   "outputs": [],
   "source": [
    "import numpy as np\n",
    "\n",
    "# Associer un code pays pour les étapes de fabrication (filature, tissage / tricotage, teinture , confection)\n",
    "def get_random_country():\n",
    "    # Liste des valeurs possibles de pays\n",
    "    country_values = ['BD', 'KH', 'CN', 'FR', '---', 'IN', 'MA', 'MM', 'PK', 'RAF', 'RLA', \\\n",
    "                      'RNA', 'RAS', 'REE', 'REO', 'RME', 'ROC', 'TN', 'TR', 'VN']\n",
    "    # Générérer une valeur aléatoire de code pays pour le T-Shirt\n",
    "    country_code = np.random.choice(country_values)\n",
    "    return country_code\n"
   ]
  },
  {
   "cell_type": "markdown",
   "id": "f62ff817-3d56-4f86-8219-57465d61c6b3",
   "metadata": {},
   "source": [
    "|                                    | \n",
    "|:--:                                |\n",
    "| [(Retour au sommaire)](#summaryUp-3-A) |"
   ]
  },
  {
   "cell_type": "markdown",
   "id": "399bf708-fe09-43ac-a01c-c21e32062243",
   "metadata": {},
   "source": [
    "###### <a name=\"anchor03_C1-43-03\" /><b>Fonction</b> : get_random_airTransportRatio()"
   ]
  },
  {
   "cell_type": "code",
   "execution_count": 3,
   "id": "aa97c9e0-d572-45fd-bf64-0c758e6e75c1",
   "metadata": {},
   "outputs": [],
   "source": [
    "import numpy as np\n",
    "\n",
    "# Générer une valeur aléatoire pour la part de transport aérien (0%, 33%, ou 100%)\n",
    "def get_random_airTransportRatio():\n",
    "    # Liste des valeurs possibles de airTransportRatio \n",
    "    airTransportRatio_values = [0, 0.33, 1]\n",
    "    # Générer une valeur aléatoire\n",
    "    airTransportRatio = np.random.choice(airTransportRatio_values)\n",
    "    return airTransportRatio\n"
   ]
  },
  {
   "cell_type": "markdown",
   "id": "3d0d90c5-4ac0-4aba-b08e-ae48515215e0",
   "metadata": {},
   "source": [
    "|                                    | \n",
    "|:--:                                |\n",
    "| [(Retour au sommaire)](#summaryUp-3-A) |"
   ]
  },
  {
   "cell_type": "markdown",
   "id": "820ff1b5-540b-4b0d-a30f-79de67937e82",
   "metadata": {},
   "source": [
    "###### <a name=\"anchor03_C1-43-04\" /><b>Fonction</b> : get_random_price_tshirt()"
   ]
  },
  {
   "cell_type": "code",
   "execution_count": 4,
   "id": "de59df4d-d8ce-4a16-bbb7-5d2bada7c839",
   "metadata": {},
   "outputs": [],
   "source": [
    "import numpy as np\n",
    "\n",
    "# Générer une valeur aléatoire de prix, entre 10€ et 40€ maxi pour un T-Shirt.\n",
    "def get_random_price_tshirt():\n",
    "    # Définir la valeur initiale du prix d'un T-Shirt : 10€\n",
    "    initial_price = 10    \n",
    "    # Calculer le pourcentage maximum possible pour que le prix final ne dépasse pas 40€\n",
    "    max_percentage = (40 - initial_price) / initial_price    \n",
    "    # Générer un pourcentage aléatoire entre 0% et le pourcentage maximum\n",
    "    random_percentage = np.random.uniform(0, max_percentage)    \n",
    "    # Calculer le prix final en appliquant le pourcentage aléatoire\n",
    "    final_price = initial_price * (1 + random_percentage)\n",
    "    prix_arrondi = int(np.ceil(final_price))\n",
    "    # Retourner le prix final arrondi\n",
    "    return prix_arrondi"
   ]
  },
  {
   "cell_type": "markdown",
   "id": "80254cdc-b6fe-4463-82c4-cd2b8adc6e10",
   "metadata": {},
   "source": [
    "|                                    | \n",
    "|:--:                                |\n",
    "| [(Retour au sommaire)](#summaryUp-3-A) |"
   ]
  },
  {
   "cell_type": "markdown",
   "id": "63c3b31b-05b3-4490-971f-602f8fcd1322",
   "metadata": {},
   "source": [
    "###### <a name=\"anchor03_C1-43-05\" /><b>Fonction</b> : get_random_traceability()"
   ]
  },
  {
   "cell_type": "code",
   "execution_count": 5,
   "id": "70b077c8-43a1-458a-9243-022ae1224787",
   "metadata": {},
   "outputs": [],
   "source": [
    "import random\n",
    "\n",
    "def get_random_traceability():\n",
    "    \"\"\"\n",
    "    Cette fonction renvoie de manière aléatoire True ou False pour le paramètre 'traceability'.\n",
    "\n",
    "    Returns:\n",
    "        bool: True ou False choisi de manière aléatoire.\n",
    "    \"\"\"\n",
    "    return random.choice([True, False])"
   ]
  },
  {
   "cell_type": "markdown",
   "id": "30925057-4a0b-4249-a1b4-ba356d10736c",
   "metadata": {},
   "source": [
    "|                                    | \n",
    "|:--:                                |\n",
    "| [(Retour au sommaire)](#summaryUp-3-A) |"
   ]
  },
  {
   "cell_type": "markdown",
   "id": "d4f38f28-86b2-44e7-a5f9-6cd99f6a0bdc",
   "metadata": {},
   "source": [
    "###### <a name=\"anchor03_C1-43-06\" /><b>Fonction</b> : get_random_business()"
   ]
  },
  {
   "cell_type": "code",
   "execution_count": 6,
   "id": "174c789d-f4fc-4aad-82f3-259798a2b0a2",
   "metadata": {},
   "outputs": [],
   "source": [
    "import numpy as np\n",
    "\n",
    "def get_random_business():\n",
    "    \"\"\"\n",
    "    Cette fonction renvoie de manière aléatoire une des valeurs permises pour le paramètre 'business'.\n",
    "\n",
    "    Returns:\n",
    "        String: 'small-business' ┃ 'large-business-with-services' ┃ 'large-business-without-services', choisi de manière aléatoire.\n",
    "    \"\"\"\n",
    "    return np.random.choice(['small-business', 'large-business-with-services', 'large-business-without-services'])"
   ]
  },
  {
   "cell_type": "markdown",
   "id": "082a8ca0-4072-459f-bc38-296cd60a4510",
   "metadata": {},
   "source": [
    "|                                    | \n",
    "|:--:                                |\n",
    "| [(Retour au sommaire)](#summaryUp-3-A) |"
   ]
  },
  {
   "cell_type": "markdown",
   "id": "daaa4a25-0ae4-446f-b365-0fdfa477b444",
   "metadata": {},
   "source": [
    "###### <a name=\"anchor03_C1-43-07\" /><b>Fonction</b> : get_random_fabricProcess()"
   ]
  },
  {
   "cell_type": "code",
   "execution_count": 7,
   "id": "1ab6ea60-319a-4f60-a305-1ae7ece90175",
   "metadata": {},
   "outputs": [],
   "source": [
    "import numpy as np\n",
    "\n",
    "def get_random_fabricProcess():\n",
    "    \"\"\"\n",
    "    Cette fonction renvoie de manière aléatoire une des valeurs permises pour le paramètre 'fabricProcess'.\n",
    "\n",
    "    Returns:\n",
    "        String: 'knitting-mix' ┃ 'knitting-fully-fashioned' ┃ 'knitting-integral' ┃ 'knitting-circular' ┃ 'knitting-straight' ┃ 'weaving'\n",
    "    \"\"\"\n",
    "    return np.random.choice(['knitting-mix', 'knitting-fully-fashioned', 'knitting-integral', \\\n",
    "                             'knitting-circular', 'knitting-straight', 'weaving'])"
   ]
  },
  {
   "cell_type": "markdown",
   "id": "c2e09ab6-c09b-4732-9293-0c2634c3273a",
   "metadata": {},
   "source": [
    "|                                    | \n",
    "|:--:                                |\n",
    "| [(Retour au sommaire)](#summaryUp-3-A) |"
   ]
  },
  {
   "cell_type": "markdown",
   "id": "6580cb0d-c7ad-4bc5-99b5-c939aef50fa5",
   "metadata": {},
   "source": [
    "###### <a name=\"anchor03_C1-43-08\" /><b>Fonction</b> : get_random_marketingDuration()"
   ]
  },
  {
   "cell_type": "code",
   "execution_count": 8,
   "id": "107ec2af-d672-4822-8f33-ab4879b99e82",
   "metadata": {},
   "outputs": [],
   "source": [
    "import random\n",
    "\n",
    "def get_random_marketingDuration(seasonal_variability=120, quarterly_variability=240, prolonged_period=360):\n",
    "    \"\"\"\n",
    "    Cette fonction génère une durée de commercialisation aléatoire en nombre de jours.\n",
    "    \n",
    "    Args:\n",
    "    seasonal_variability (int): La durée de la variabilité saisonnière en jours. Par défaut, elle est fixée à 120 jours.\n",
    "    quarterly_variability (int): La durée de la variabilité trimestrielle en jours. Par défaut, elle est fixée à 240 jours.\n",
    "    prolonged_period (int): La durée d'une période prolongée en jours. Par défaut, elle est fixée à 360 jours.\n",
    "\n",
    "    Returns:\n",
    "    int: La durée de commercialisation générée aléatoirement en nombre de jours.\n",
    "    \"\"\"\n",
    "    # Créer une liste avec les différentes durées\n",
    "    durations = [seasonal_variability, quarterly_variability, prolonged_period]\n",
    "    \n",
    "    # Choisir une durée aléatoirement\n",
    "    chosen_duration = random.choice(durations)\n",
    "    \n",
    "    # Générer un nombre aléatoire de jours dans la durée choisie\n",
    "    marketing_duration = random.randint(1, chosen_duration)\n",
    "    \n",
    "    # S'assurer que la durée de commercialisation ne dépasse pas 999 jours\n",
    "    marketing_duration = min(marketing_duration, 999)\n",
    "    \n",
    "    return marketing_duration"
   ]
  },
  {
   "cell_type": "markdown",
   "id": "37968ea8-a165-4ad1-88de-7d8f8c6fa93d",
   "metadata": {},
   "source": [
    "|                                    | \n",
    "|:--:                                |\n",
    "| [(Retour au sommaire)](#summaryUp-3-A) |"
   ]
  },
  {
   "cell_type": "markdown",
   "id": "555edc11-ecdf-49c5-8a20-3861bad57bf3",
   "metadata": {},
   "source": [
    "###### <a name=\"anchor03_C1-43-09\" /><b>Fonction</b> : get_random_numberOfReferences()"
   ]
  },
  {
   "cell_type": "code",
   "execution_count": 9,
   "id": "db920449-7c4c-4e85-ac85-85ff9b78b3c9",
   "metadata": {},
   "outputs": [],
   "source": [
    "import random\n",
    "\n",
    "def get_random_numberOfReferences(min_value=150, max_value=150000, step=200):\n",
    "    \"\"\"\n",
    "    Cette fonction génère un nombre entier aléatoire entre min_value et max_value, avec un pas de step.\n",
    "    \n",
    "    Args:\n",
    "    min_value (int): La valeur minimale du nombre à générer. Par défaut, elle est fixée à 150.\n",
    "    max_value (int): La valeur maximale du nombre à générer. Par défaut, elle est fixée à 150000.\n",
    "    step (int): Le pas de variabilité. Par défaut, il est fixé à 200.\n",
    "\n",
    "    Returns:\n",
    "    int: Le nombre de références généré aléatoirement.\n",
    "    \"\"\"\n",
    "    # Calculer le nombre de pas entre min_value et max_value\n",
    "    num_steps = (max_value - min_value) // step\n",
    "    \n",
    "    # Générer un nombre aléatoire de pas\n",
    "    random_steps = random.randint(0, num_steps)\n",
    "    \n",
    "    # Calculer le nombre de références\n",
    "    number_of_references = min_value + random_steps * step\n",
    "    \n",
    "    return number_of_references"
   ]
  },
  {
   "cell_type": "markdown",
   "id": "a7affd08-0bfa-4df4-8a80-eaa3ab555ae6",
   "metadata": {},
   "source": [
    "|                                    | \n",
    "|:--:                                |\n",
    "| [(Retour au sommaire)](#summaryUp-3-A) |"
   ]
  },
  {
   "cell_type": "markdown",
   "id": "cef7f817-2412-48a8-9e80-5f55f2252868",
   "metadata": {},
   "source": [
    "###### <a name=\"anchor03_C1-43-10\" /><b>Fonction</b> : get_random_materials()"
   ]
  },
  {
   "cell_type": "code",
   "execution_count": 10,
   "id": "67f19384-c78b-4862-b1d1-e8f1cbf734e6",
   "metadata": {},
   "outputs": [],
   "source": [
    "import random\n",
    "\n",
    "def get_random_materials(material_ids):\n",
    "    # S'assurer qu'il y a trois matériaux\n",
    "    assert len(material_ids) == 3, \"La liste des identifiants de matériaux doit contenir exactement trois éléments.\"\n",
    "    \n",
    "    # Mélangez la liste des identifiants de matériaux\n",
    "    # random.shuffle(material_ids)\n",
    "    \n",
    "    # Générez un pourcentage aléatoire pour le premier matériau entre 50% et 100%\n",
    "    first_share = round(random.uniform(0.5, 1.0), 2)\n",
    "    \n",
    "    # Générez un pourcentage aléatoire pour le deuxième matériau entre 0% et (1 - first_share)\n",
    "    second_share = round(random.uniform(0.0, 1.0 - first_share), 2)\n",
    "    \n",
    "    # Le troisième pourcentage est déterminé par les deux autres\n",
    "    third_share = round(1.0 - first_share - second_share, 2)\n",
    "    \n",
    "    # Retournez la liste des matériaux\n",
    "    return [\n",
    "        {'id': material_ids[0], 'share': first_share},\n",
    "        {'id': material_ids[1], 'share': second_share},\n",
    "        {'id': material_ids[2], 'share': third_share}\n",
    "    ]"
   ]
  },
  {
   "cell_type": "markdown",
   "id": "2395ced6-2b62-4936-b158-7e6c989bef8e",
   "metadata": {},
   "source": [
    "|                                    | \n",
    "|:--:                                |\n",
    "| [(Retour au sommaire)](#summaryUp-3-A) |"
   ]
  },
  {
   "cell_type": "markdown",
   "id": "701c807c-9484-4853-830e-c51d1be48ae4",
   "metadata": {},
   "source": [
    "###### <a name=\"anchor03_C1-43-11\" /><b>Fonction</b> : choose_random_materials_tshirt()"
   ]
  },
  {
   "cell_type": "code",
   "execution_count": 11,
   "id": "0d0b332b-4abe-439e-959d-0aa212afb8ac",
   "metadata": {},
   "outputs": [],
   "source": [
    "import random\n",
    "\n",
    "def choose_random_materials_tshirt():\n",
    "    # Combinaisons de listes de matériaux pour un t-shirt\n",
    "    materials_lists = [\n",
    "        ['ei-coton', 'ei-pet', 'ei-lin'],\n",
    "        ['ei-coton', 'ei-pet', 'ei-viscose'],\n",
    "        ['ei-coton', 'ei-lin', 'ei-viscose'],\n",
    "        ['ei-pet', 'ei-lin', 'ei-viscose'],\n",
    "        ['ei-coton', 'ei-chanvre', 'ei-viscose'],\n",
    "        ['ei-pet', 'ei-chanvre', 'ei-viscose'],\n",
    "        ['ei-lin', 'ei-chanvre', 'ei-viscose']\n",
    "    ]\n",
    "    \n",
    "    # Choisissez une liste de matériaux aléatoirement\n",
    "    chosen_materials = random.choice(materials_lists)\n",
    "    \n",
    "    return chosen_materials"
   ]
  },
  {
   "cell_type": "markdown",
   "id": "530a9946-424d-4d0a-9af3-6c448d0c5bf1",
   "metadata": {},
   "source": [
    "|                                    | \n",
    "|:--:                                |\n",
    "| [(Retour au sommaire)](#summaryUp-3-A) |"
   ]
  },
  {
   "cell_type": "markdown",
   "id": "476db2ca-d1d6-4f3f-bc22-73f8026268ad",
   "metadata": {},
   "source": [
    "###### <a name=\"anchor03_C1-43-12\" /><b>Fonction</b> : get_random_data_tshirt()"
   ]
  },
  {
   "cell_type": "code",
   "execution_count": 12,
   "id": "85fd15f4-39e6-4ce9-8558-f6107c987eab",
   "metadata": {},
   "outputs": [],
   "source": [
    "import random\n",
    "\n",
    "def get_random_data_tshirt():\n",
    "    # Composition aléatoire des paramètres du Tshirt\n",
    "    mass = get_random_mass()\n",
    "\n",
    "    # Liste des identifiants de matériaux\n",
    "    material_ids = choose_random_materials_tshirt()\n",
    "    materials = get_random_materials(material_ids)\n",
    "    # autres paramètres\n",
    "    product = 'tshirt'\n",
    "    countrySpinning = get_random_country()\n",
    "    countryFabric = get_random_country()\n",
    "    countryDyeing = countryFabric # get_random_country()\n",
    "    countryMaking = countryFabric # get_random_country()\n",
    "    airTransportRatio = get_random_airTransportRatio()\n",
    "    fabricProcess = get_random_fabricProcess()\n",
    "    business = get_random_business()\n",
    "    marketingDuration = get_random_marketingDuration()\n",
    "    numberOfReferences = get_random_numberOfReferences()\n",
    "    price = get_random_price_tshirt()\n",
    "    traceability = get_random_traceability()\n",
    "    \n",
    "    # Générer un résumé du nom du T-Shirt sur la base des valeurs aléatoires\n",
    "    nomTshirt = 'Tshirt (' + str(int(mass*1000)) + 'g) - C: ' + countryMaking + ' - ATR: ' \\\n",
    "                        + str(int(airTransportRatio*100)) + '%' + ' - ' + str(price) + '€.'\n",
    "    \n",
    "    # Paramètres d'entrée de l'API EcoBalyze\n",
    "    random_data = {\n",
    "            'mass': mass,\n",
    "        \n",
    "            # Liste des matières composant le produit (voir : textile/materials).\n",
    "            # Le format de chaque entrée est composé de l'identifiant de la matière \n",
    "            # et de la part du produit qu'elle représente, optionnellement du procédé \n",
    "            # de filature ou filage pour la matière (ConventionalSpinning, UnconventionalSpinning, \n",
    "            # SyntheticSpinning), et optionnellement du code du pays d'origine de la matière.\n",
    "            'materials': materials,\n",
    "                        \n",
    "            # Identifiant du produit (voir : textile/products)\n",
    "            'product': product,\n",
    "    \n",
    "            # Code pays pour l'étape de Filature (voir: textile/countries) \n",
    "            # Si non spécifié, le pays de filature pris en considération est \n",
    "            # celui de production de la matière la plus représentée dans le mix.\n",
    "            'countrySpinning': countrySpinning,\n",
    "        \n",
    "            # Code pays pour l'étape de Tissage/Tricotage (voir : textile/countries) \n",
    "            'countryFabric': countryFabric,\n",
    "    \n",
    "            # Code pays pour l'étape de Teinture (voir : textile/countries)\n",
    "            'countryDyeing': countryDyeing,\n",
    "    \n",
    "            # Code pays pour l'étape de Confection (voir : textile/countries)\n",
    "            'countryMaking': countryMaking,\n",
    "    \n",
    "            # Part de transport aérien entre l'étape de Confection et l'étape de Distribution, entre 0 et 1 \n",
    "            'airTransportRatio': airTransportRatio,\n",
    "    \n",
    "            # Le processus utilisé pour tisser ou tricoter le tissu, parmi :\n",
    "            # knitting-mix ┃ knitting-fully-fashioned ┃ knitting-integral \n",
    "            # ┃ knitting-circular ┃ knitting-straight ┃ weaving\n",
    "            'fabricProcess': fabricProcess,\n",
    "    \n",
    "            # Type d'entreprise et d'offre de services, parmi :\n",
    "            # small-business ┃ large-business-with-services ┃ large-business-without-services\n",
    "            'business' : business,\n",
    "    \n",
    "            # Durée de commercialisation, en jours. Min 1 ┃ Max 999\n",
    "            'marketingDuration' : marketingDuration,\n",
    "    \n",
    "            # Nombre de références au catalogue de la marque. Min 1 ┃ Max 999999 \n",
    "            'numberOfReferences' : numberOfReferences,\n",
    "    \n",
    "            # Prix du produit, en Euros (€). Min 1 ┃ Max 1000\n",
    "            'price' : price,\n",
    "    \n",
    "            # Traçabilité renforcée. true ┃ false\n",
    "            'traceability' : traceability\n",
    "           }\n",
    "    \n",
    "    return random_data, nomTshirt, mass, countrySpinning, countryFabric, countryDyeing, countryMaking, fabricProcess, \\\n",
    "           business, marketingDuration, numberOfReferences, traceability"
   ]
  },
  {
   "cell_type": "markdown",
   "id": "436466cc-00b6-4fda-b16c-f01df0c62934",
   "metadata": {},
   "source": [
    "|                                    | \n",
    "|:--:                                |\n",
    "| [(Retour au sommaire)](#summaryUp-3-A) |"
   ]
  },
  {
   "cell_type": "markdown",
   "id": "e84aebfa-c497-45a5-89ba-c16322069d3d",
   "metadata": {},
   "source": [
    "###### <a name=\"anchor03_C1-43-13\" /><u>Exemple</u>: Génération d'un T-shirt avec des données aléatoires"
   ]
  },
  {
   "cell_type": "code",
   "execution_count": 13,
   "id": "1c1c3e21-df7f-45e9-9a42-9559809860f9",
   "metadata": {},
   "outputs": [
    {
     "name": "stdout",
     "output_type": "stream",
     "text": [
      "T-shirt / Polo : 0,280kg, matière : 70% Lin provenance  par défaut (Europe), 7% Chanvre provenance  par défaut (Asie - Pacifique), 23% Viscose provenance  par défaut (Asie - Pacifique), filature : Région - Afrique, Tricotage Circulaire : Région - Océanie, ennoblissement : Région - Océanie, impression : non, confection : Région - Océanie (100 de transport aérien), distribution : France, utilisation : France, fin de vie : France\n",
      "\n",
      "Nbre de ligne(s) du tableau résultat : 1\n",
      "\n"
     ]
    },
    {
     "data": {
      "text/html": [
       "<div>\n",
       "<style scoped>\n",
       "    .dataframe tbody tr th:only-of-type {\n",
       "        vertical-align: middle;\n",
       "    }\n",
       "\n",
       "    .dataframe tbody tr th {\n",
       "        vertical-align: top;\n",
       "    }\n",
       "\n",
       "    .dataframe thead th {\n",
       "        text-align: right;\n",
       "    }\n",
       "</style>\n",
       "<table border=\"1\" class=\"dataframe\">\n",
       "  <thead>\n",
       "    <tr style=\"text-align: right;\">\n",
       "      <th></th>\n",
       "      <th>ecs</th>\n",
       "      <th>pef</th>\n",
       "      <th>mass</th>\n",
       "      <th>product</th>\n",
       "      <th>countrySpinning</th>\n",
       "      <th>countryFabric</th>\n",
       "      <th>countryDyeing</th>\n",
       "      <th>countryMaking</th>\n",
       "      <th>airTransportRatio</th>\n",
       "      <th>fabricProcess</th>\n",
       "      <th>business</th>\n",
       "      <th>marketingDuration</th>\n",
       "      <th>numberOfReferences</th>\n",
       "      <th>price</th>\n",
       "      <th>traceability</th>\n",
       "      <th>Description</th>\n",
       "      <th>materials</th>\n",
       "      <th>material_1</th>\n",
       "      <th>material_2</th>\n",
       "      <th>material_3</th>\n",
       "    </tr>\n",
       "  </thead>\n",
       "  <tbody>\n",
       "    <tr>\n",
       "      <th>Tshirt (280g) - C: ROC - ATR: 100% - 27€.</th>\n",
       "      <td>1610</td>\n",
       "      <td>1203</td>\n",
       "      <td>0.28</td>\n",
       "      <td>tshirt</td>\n",
       "      <td>RAF</td>\n",
       "      <td>ROC</td>\n",
       "      <td>ROC</td>\n",
       "      <td>ROC</td>\n",
       "      <td>1.0</td>\n",
       "      <td>knitting-circular</td>\n",
       "      <td>small-business</td>\n",
       "      <td>208</td>\n",
       "      <td>53750</td>\n",
       "      <td>27</td>\n",
       "      <td>True</td>\n",
       "      <td>T-shirt / Polo : 0,280kg, matière : 70% Lin pr...</td>\n",
       "      <td>[{'id': 'ei-lin', 'share': 0.7}, {'id': 'ei-ch...</td>\n",
       "      <td>{'id': 'ei-lin', 'share': 0.7}</td>\n",
       "      <td>{'id': 'ei-chanvre', 'share': 0.07}</td>\n",
       "      <td>{'id': 'ei-viscose', 'share': 0.23}</td>\n",
       "    </tr>\n",
       "  </tbody>\n",
       "</table>\n",
       "</div>"
      ],
      "text/plain": [
       "                                            ecs   pef  mass product  \\\n",
       "Tshirt (280g) - C: ROC - ATR: 100% - 27€.  1610  1203  0.28  tshirt   \n",
       "\n",
       "                                          countrySpinning countryFabric  \\\n",
       "Tshirt (280g) - C: ROC - ATR: 100% - 27€.             RAF           ROC   \n",
       "\n",
       "                                          countryDyeing countryMaking  \\\n",
       "Tshirt (280g) - C: ROC - ATR: 100% - 27€.           ROC           ROC   \n",
       "\n",
       "                                           airTransportRatio  \\\n",
       "Tshirt (280g) - C: ROC - ATR: 100% - 27€.                1.0   \n",
       "\n",
       "                                               fabricProcess        business  \\\n",
       "Tshirt (280g) - C: ROC - ATR: 100% - 27€.  knitting-circular  small-business   \n",
       "\n",
       "                                           marketingDuration  \\\n",
       "Tshirt (280g) - C: ROC - ATR: 100% - 27€.                208   \n",
       "\n",
       "                                           numberOfReferences  price  \\\n",
       "Tshirt (280g) - C: ROC - ATR: 100% - 27€.               53750     27   \n",
       "\n",
       "                                           traceability  \\\n",
       "Tshirt (280g) - C: ROC - ATR: 100% - 27€.          True   \n",
       "\n",
       "                                                                                 Description  \\\n",
       "Tshirt (280g) - C: ROC - ATR: 100% - 27€.  T-shirt / Polo : 0,280kg, matière : 70% Lin pr...   \n",
       "\n",
       "                                                                                   materials  \\\n",
       "Tshirt (280g) - C: ROC - ATR: 100% - 27€.  [{'id': 'ei-lin', 'share': 0.7}, {'id': 'ei-ch...   \n",
       "\n",
       "                                                               material_1  \\\n",
       "Tshirt (280g) - C: ROC - ATR: 100% - 27€.  {'id': 'ei-lin', 'share': 0.7}   \n",
       "\n",
       "                                                                    material_2  \\\n",
       "Tshirt (280g) - C: ROC - ATR: 100% - 27€.  {'id': 'ei-chanvre', 'share': 0.07}   \n",
       "\n",
       "                                                                    material_3  \n",
       "Tshirt (280g) - C: ROC - ATR: 100% - 27€.  {'id': 'ei-viscose', 'share': 0.23}  "
      ]
     },
     "execution_count": 13,
     "metadata": {},
     "output_type": "execute_result"
    }
   ],
   "source": [
    "import requests\n",
    "\n",
    "import pandas as pd\n",
    "import numpy as np\n",
    "\n",
    "link = 'https://ecobalyse.beta.gouv.fr/api/'\n",
    "\n",
    "# Composition aléatoire des paramètres du Tshirt\n",
    "data, nomTshirt, mass, countrySpinning, countryFabric, countryDyeing, countryMaking, fabricProcess, \\\n",
    "                 business, marketingDuration, numberOfReferences, traceability = get_random_data_tshirt()\n",
    "\n",
    "# Scrapper l'API avec le dictionnaire\n",
    "result2 = requests.post(link + 'textile/simulator', json=data)\n",
    "    \n",
    "# Vérifiez le statut de la requête\n",
    "if result2.status_code == 200:\n",
    "    # Convertir la réponse en JSON\n",
    "    response_json = result2.json()\n",
    "    \n",
    "    # Extraire la liste des impacts environnementaux dans un DataFrame\n",
    "    df_impacts = pd.DataFrame(response_json['impacts'].items(), columns=['Nom', nomTshirt])\n",
    "    print(response_json['description'] + '\\n')\n",
    "    \n",
    "else:\n",
    "    print('La requête a échoué avec le code de statut :', result2.status_code)\n",
    "\n",
    "# Transposition du DataFrame\n",
    "df_transpose = df_impacts.transpose()\n",
    "\n",
    "df_transpose.columns = df_transpose.iloc[0]  # Faire de la première ligne les libellés des colonnes\n",
    "df_transpose = df_transpose[1:]  # Supprimer la première ligne\n",
    "\n",
    "# Arrondir les valeurs des colonnes 'ecs' et 'pef' à l'entier supérieur\n",
    "df_transpose['ecs'] = np.ceil(df_transpose['ecs'])\n",
    "df_transpose['pef'] = np.ceil(df_transpose['pef'])\n",
    "\n",
    "# Supprimer les colonnes remplies de 0.0 : acd, cch, etf, etf-c, ...\n",
    "colonnes_a_supprimer = ['acd', 'cch', 'etf', 'etf-c', 'fru', 'fwe', 'htc', 'htc-c', 'htn', 'htn-c', \\\n",
    "                        'ior', 'ldu', 'mru', 'ozd', 'pco', 'pma', 'swe', 'tre', 'wtu']\n",
    "df_sans_colonnes = df_transpose.drop(colonnes_a_supprimer, axis=1)\n",
    "\n",
    "# Ajouter les colonnes de composition du textile\n",
    "df_sans_colonnes['mass'] = data['mass']\n",
    "df_sans_colonnes['product'] = data['product']\n",
    "df_sans_colonnes['countrySpinning'] = data['countrySpinning']\n",
    "df_sans_colonnes['countryFabric'] = data['countryFabric']\n",
    "df_sans_colonnes['countryDyeing'] = data['countryDyeing']\n",
    "df_sans_colonnes['countryMaking'] = data['countryMaking']\n",
    "df_sans_colonnes['airTransportRatio'] = data['airTransportRatio']\n",
    "df_sans_colonnes['fabricProcess'] = data['fabricProcess']\n",
    "df_sans_colonnes['business'] = data['business']\n",
    "df_sans_colonnes['marketingDuration'] = data['marketingDuration']\n",
    "df_sans_colonnes['numberOfReferences'] = data['numberOfReferences']\n",
    "df_sans_colonnes['price'] = data['price']\n",
    "df_sans_colonnes['traceability'] = data['traceability']\n",
    "df_sans_colonnes['Description'] = response_json['description']\n",
    "\n",
    "# diviser en plusieurs colonnes la liste de dictionnaire 'materials'\n",
    "df_sans_colonnes['materials'] = df_sans_colonnes.apply(lambda row: data['materials'], axis=1)\n",
    "\n",
    "# 1- Créer une nouvelle DataFrame à partir de la colonne 'materials'\n",
    "df_materials = df_sans_colonnes['materials'].apply(pd.Series)\n",
    "\n",
    "# 2- Renommer les colonnes\n",
    "df_materials.columns = ['material_{}'.format(i+1) for i in range(df_materials.shape[1])]\n",
    "\n",
    "# 3- Concaténer le DataFrame original avec le nouveau DataFrame de materials\n",
    "df_final = pd.concat([df_sans_colonnes, df_materials], axis=1)\n",
    "\n",
    "# Affichage du DataFrame\n",
    "print('Nbre de ligne(s) du tableau résultat : ' + str(df_transpose.shape[0]) + '\\n')\n",
    "df_final\n"
   ]
  },
  {
   "cell_type": "markdown",
   "id": "eb022df8-06ac-436f-81ec-028713fbc1ef",
   "metadata": {},
   "source": [
    "|                                    | \n",
    "|:--:                                |\n",
    "| [(Retour au sommaire)](#summaryUp-3-A) |"
   ]
  },
  {
   "cell_type": "markdown",
   "id": "23315a8c-c769-40b7-a72b-3b25cc1e45d0",
   "metadata": {},
   "source": [
    "###### <a name=\"anchor03_C1-44-01\" /><b>Fonction</b> : create_random_tshirts(n)"
   ]
  },
  {
   "cell_type": "code",
   "execution_count": 14,
   "id": "a33b8653-cfc8-43f4-8192-08b2803366b0",
   "metadata": {},
   "outputs": [],
   "source": [
    "import pandas as pd\n",
    "import numpy as np\n",
    "\n",
    "import requests\n",
    "from requests.exceptions import RequestException\n",
    "\n",
    "def create_random_tshirts(n=10):\n",
    "    # url de l'api EcoBalyze\n",
    "    link = 'https://ecobalyse.beta.gouv.fr/api/'\n",
    "\n",
    "    # Initialiser un DataFrame vide\n",
    "    df_total = pd.DataFrame()\n",
    "\n",
    "    for i in range(n):\n",
    "        try: \n",
    "            # Bloc de code à essayer d'exécuter\n",
    "            # Composition aléatoire des paramètres du Tshirt\n",
    "            data, nomTshirt, mass, countrySpinning, countryFabric, countryDyeing, countryMaking, fabricProcess, \\\n",
    "                             business, marketingDuration, numberOfReferences, traceability = get_random_data_tshirt()\n",
    "\n",
    "            # Scrapper l'API avec le dictionnaire\n",
    "            result2 = requests.post(link + 'textile/simulator', json=data)\n",
    "\n",
    "            # Vérifiez le statut de la requête\n",
    "            if result2.status_code == 200:\n",
    "                # Convertir la réponse en JSON\n",
    "                response_json = result2.json()\n",
    "                \n",
    "                # Extraire la liste des impacts environnementaux dans un DataFrame\n",
    "                df_impacts = pd.DataFrame(response_json['impacts'].items(), columns=['nom', str(i+1) + ' - ' + nomTshirt])\n",
    "                \n",
    "                # Transposition du DataFrame\n",
    "                df_transpose = df_impacts.transpose()\n",
    "                df_transpose.columns = df_transpose.iloc[0]  # Faire de la première ligne les libellés des colonnes\n",
    "                df_transpose = df_transpose[1:]  # Supprimer la première ligne\n",
    "\n",
    "                # Arrondir les valeurs des colonnes 'ecs' et 'pef' à l'entier supérieur\n",
    "                df_transpose['ecs'] = np.ceil(df_transpose['ecs'])\n",
    "                df_transpose['pef'] = np.ceil(df_transpose['pef'])\n",
    "                \n",
    "                # Supprimer les colonnes remplies de 0.0 : acd, cch, etf, etf-c, ...\n",
    "                colonnes_a_supprimer = ['acd', 'cch', 'etf', 'etf-c', 'fru', 'fwe', 'htc', 'htc-c', 'htn', 'htn-c', \\\n",
    "                                        'ior', 'ldu', 'mru', 'ozd', 'pco', 'pma', 'swe', 'tre', 'wtu']\n",
    "                df_sans_colonnes = df_transpose.drop(colonnes_a_supprimer, axis=1)\n",
    "                \n",
    "                # Ajouter les colonnes de composition du textile\n",
    "                df_sans_colonnes['mass'] = data['mass']\n",
    "                df_sans_colonnes['product'] = data['product']\n",
    "                df_sans_colonnes['countrySpinning'] = data['countrySpinning']\n",
    "                df_sans_colonnes['countryFabric'] = data['countryFabric']\n",
    "                df_sans_colonnes['countryDyeing'] = data['countryDyeing']\n",
    "                df_sans_colonnes['countryMaking'] = data['countryMaking']\n",
    "                df_sans_colonnes['airTransportRatio'] = data['airTransportRatio']\n",
    "                df_sans_colonnes['fabricProcess'] = data['fabricProcess']\n",
    "                df_sans_colonnes['business'] = data['business']\n",
    "                df_sans_colonnes['marketingDuration'] = data['marketingDuration']\n",
    "                df_sans_colonnes['numberOfReferences'] = data['numberOfReferences']\n",
    "                df_sans_colonnes['price'] = data['price']\n",
    "                df_sans_colonnes['traceability'] = data['traceability']\n",
    "                df_sans_colonnes['description'] = response_json['description']\n",
    "                \n",
    "                # diviser en plusieurs colonnes la liste de dictionnaire 'materials'\n",
    "                df_sans_colonnes['materials'] = df_sans_colonnes.apply(lambda row: data['materials'], axis=1)\n",
    "\n",
    "                # 1- Créer une nouvelle DataFrame à partir de la colonne 'materials'\n",
    "                df_materials = df_sans_colonnes['materials'].apply(pd.Series)\n",
    "\n",
    "                # 2- Renommer les colonnes\n",
    "                df_materials.columns = ['material_{}'.format(i+1) for i in range(df_materials.shape[1])]\n",
    "\n",
    "                # 3- Concaténer le DataFrame original avec le nouveau DataFrame de materials\n",
    "                df_final = pd.concat([df_sans_colonnes, df_materials], axis=1)\n",
    "                \n",
    "                # Ajouter le DataFrame transposé final au DataFrame total\n",
    "                df_total = pd.concat([df_total, df_final])\n",
    "\n",
    "            else:\n",
    "                print('La requête a échoué avec le code de statut :', result2.status_code)\n",
    "\n",
    "        except Exception as e:\n",
    "            # Bloc de code à exécuter en cas d'erreur\n",
    "            print(\"Une erreur s'est produite :\", e)\n",
    "\n",
    "        else:\n",
    "            # Bloc de code à exécuter si aucune erreur ne s'est produite\n",
    "            # print('T-shirt', i+1, 'traité avec succès.')\n",
    "            pass\n",
    "\n",
    "    # Transformer le DataFrame en fichier JSON\n",
    "    df_total.to_json('./1-RECOLTE-DATA/API/f_api_random' + str(i+1) + '_t-shirt_data_out.json', orient='split', force_ascii=False)\n",
    "\n",
    "    # Sauvegarder le DataFrame en fichier CSV\n",
    "    df_total.to_csv('./1-RECOLTE-DATA/API/f_api_random' + str(i+1) + '_t-shirt_data_out.csv', encoding='utf-8', index=True)\n",
    "    \n",
    "    # retourne le DataFrame\n",
    "    return df_total\n"
   ]
  },
  {
   "cell_type": "markdown",
   "id": "4d8ccc8c-549e-450a-af11-cf5f007edfaa",
   "metadata": {},
   "source": [
    "|                                    | \n",
    "|:--:                                |\n",
    "| [(Retour au sommaire)](#summaryUp-3-A) |"
   ]
  },
  {
   "cell_type": "markdown",
   "id": "2e2de151-9619-4e3c-a8c3-a86824a760f4",
   "metadata": {},
   "source": [
    "##### <a name=\"anchor03_C1-44-02\" /><u>Exemple</u> : Exemple: Génération aléatoire d'une liste de T-shirts et sauvegarde en Json / CSV"
   ]
  },
  {
   "cell_type": "code",
   "execution_count": 18,
   "id": "088ce1b8-d486-42d7-a990-33eb851985d8",
   "metadata": {},
   "outputs": [
    {
     "name": "stdout",
     "output_type": "stream",
     "text": [
      "Liste d'impacts de T-shirts générés aléatoirement (seules les 10 dernières lignes du résultat sont affichées).\n",
      "\n",
      "Nbre de ligne(s) du tableau résultat : 100\n",
      "\n",
      "Réalisé en 9.67 secondes\n",
      "\n"
     ]
    },
    {
     "data": {
      "text/html": [
       "<div>\n",
       "<style scoped>\n",
       "    .dataframe tbody tr th:only-of-type {\n",
       "        vertical-align: middle;\n",
       "    }\n",
       "\n",
       "    .dataframe tbody tr th {\n",
       "        vertical-align: top;\n",
       "    }\n",
       "\n",
       "    .dataframe thead th {\n",
       "        text-align: right;\n",
       "    }\n",
       "</style>\n",
       "<table border=\"1\" class=\"dataframe\">\n",
       "  <thead>\n",
       "    <tr style=\"text-align: right;\">\n",
       "      <th></th>\n",
       "      <th>ecs</th>\n",
       "      <th>pef</th>\n",
       "      <th>mass</th>\n",
       "      <th>product</th>\n",
       "      <th>countrySpinning</th>\n",
       "      <th>countryFabric</th>\n",
       "      <th>countryDyeing</th>\n",
       "      <th>countryMaking</th>\n",
       "      <th>airTransportRatio</th>\n",
       "      <th>fabricProcess</th>\n",
       "      <th>business</th>\n",
       "      <th>marketingDuration</th>\n",
       "      <th>numberOfReferences</th>\n",
       "      <th>price</th>\n",
       "      <th>traceability</th>\n",
       "      <th>description</th>\n",
       "      <th>materials</th>\n",
       "      <th>material_1</th>\n",
       "      <th>material_2</th>\n",
       "      <th>material_3</th>\n",
       "    </tr>\n",
       "  </thead>\n",
       "  <tbody>\n",
       "    <tr>\n",
       "      <th>91 - Tshirt (250g) - C: BD - ATR: 33% - 25€.</th>\n",
       "      <td>2538</td>\n",
       "      <td>1445</td>\n",
       "      <td>0.25</td>\n",
       "      <td>tshirt</td>\n",
       "      <td>MM</td>\n",
       "      <td>BD</td>\n",
       "      <td>BD</td>\n",
       "      <td>BD</td>\n",
       "      <td>0.33</td>\n",
       "      <td>weaving</td>\n",
       "      <td>small-business</td>\n",
       "      <td>43</td>\n",
       "      <td>131150</td>\n",
       "      <td>25</td>\n",
       "      <td>False</td>\n",
       "      <td>T-shirt / Polo : 0,250kg, matière : 99% Coton ...</td>\n",
       "      <td>[{'id': 'ei-coton', 'share': 0.99}, {'id': 'ei...</td>\n",
       "      <td>{'id': 'ei-coton', 'share': 0.99}</td>\n",
       "      <td>{'id': 'ei-pet', 'share': 0.0}</td>\n",
       "      <td>{'id': 'ei-lin', 'share': 0.01}</td>\n",
       "    </tr>\n",
       "    <tr>\n",
       "      <th>92 - Tshirt (280g) - C: TR - ATR: 0% - 18€.</th>\n",
       "      <td>1799</td>\n",
       "      <td>1208</td>\n",
       "      <td>0.28</td>\n",
       "      <td>tshirt</td>\n",
       "      <td>TN</td>\n",
       "      <td>TR</td>\n",
       "      <td>TR</td>\n",
       "      <td>TR</td>\n",
       "      <td>0.00</td>\n",
       "      <td>knitting-circular</td>\n",
       "      <td>large-business-without-services</td>\n",
       "      <td>59</td>\n",
       "      <td>24950</td>\n",
       "      <td>18</td>\n",
       "      <td>True</td>\n",
       "      <td>T-shirt / Polo : 0,280kg, matière : 73% Polyes...</td>\n",
       "      <td>[{'id': 'ei-pet', 'share': 0.73}, {'id': 'ei-l...</td>\n",
       "      <td>{'id': 'ei-pet', 'share': 0.73}</td>\n",
       "      <td>{'id': 'ei-lin', 'share': 0.26}</td>\n",
       "      <td>{'id': 'ei-viscose', 'share': 0.01}</td>\n",
       "    </tr>\n",
       "    <tr>\n",
       "      <th>93 - Tshirt (130g) - C: KH - ATR: 33% - 28€.</th>\n",
       "      <td>942</td>\n",
       "      <td>632</td>\n",
       "      <td>0.13</td>\n",
       "      <td>tshirt</td>\n",
       "      <td>VN</td>\n",
       "      <td>KH</td>\n",
       "      <td>KH</td>\n",
       "      <td>KH</td>\n",
       "      <td>0.33</td>\n",
       "      <td>weaving</td>\n",
       "      <td>large-business-with-services</td>\n",
       "      <td>2</td>\n",
       "      <td>147750</td>\n",
       "      <td>28</td>\n",
       "      <td>True</td>\n",
       "      <td>T-shirt / Polo : 0,130kg, matière : 89% Coton ...</td>\n",
       "      <td>[{'id': 'ei-coton', 'share': 0.89}, {'id': 'ei...</td>\n",
       "      <td>{'id': 'ei-coton', 'share': 0.89}</td>\n",
       "      <td>{'id': 'ei-chanvre', 'share': 0.07}</td>\n",
       "      <td>{'id': 'ei-viscose', 'share': 0.04}</td>\n",
       "    </tr>\n",
       "    <tr>\n",
       "      <th>94 - Tshirt (160g) - C: MM - ATR: 0% - 26€.</th>\n",
       "      <td>1290</td>\n",
       "      <td>710</td>\n",
       "      <td>0.16</td>\n",
       "      <td>tshirt</td>\n",
       "      <td>PK</td>\n",
       "      <td>MM</td>\n",
       "      <td>MM</td>\n",
       "      <td>MM</td>\n",
       "      <td>0.00</td>\n",
       "      <td>knitting-mix</td>\n",
       "      <td>large-business-with-services</td>\n",
       "      <td>105</td>\n",
       "      <td>42750</td>\n",
       "      <td>26</td>\n",
       "      <td>False</td>\n",
       "      <td>T-shirt / Polo : 0,160kg, matière : 62% Coton ...</td>\n",
       "      <td>[{'id': 'ei-coton', 'share': 0.62}, {'id': 'ei...</td>\n",
       "      <td>{'id': 'ei-coton', 'share': 0.62}</td>\n",
       "      <td>{'id': 'ei-pet', 'share': 0.19}</td>\n",
       "      <td>{'id': 'ei-viscose', 'share': 0.19}</td>\n",
       "    </tr>\n",
       "    <tr>\n",
       "      <th>95 - Tshirt (190g) - C: MA - ATR: 0% - 20€.</th>\n",
       "      <td>1367</td>\n",
       "      <td>916</td>\n",
       "      <td>0.19</td>\n",
       "      <td>tshirt</td>\n",
       "      <td>KH</td>\n",
       "      <td>MA</td>\n",
       "      <td>MA</td>\n",
       "      <td>MA</td>\n",
       "      <td>0.00</td>\n",
       "      <td>knitting-straight</td>\n",
       "      <td>small-business</td>\n",
       "      <td>112</td>\n",
       "      <td>116150</td>\n",
       "      <td>20</td>\n",
       "      <td>False</td>\n",
       "      <td>T-shirt / Polo : 0,190kg, matière : 91% Polyes...</td>\n",
       "      <td>[{'id': 'ei-pet', 'share': 0.91}, {'id': 'ei-c...</td>\n",
       "      <td>{'id': 'ei-pet', 'share': 0.91}</td>\n",
       "      <td>{'id': 'ei-chanvre', 'share': 0.06}</td>\n",
       "      <td>{'id': 'ei-viscose', 'share': 0.03}</td>\n",
       "    </tr>\n",
       "    <tr>\n",
       "      <th>96 - Tshirt (100g) - C: RLA - ATR: 33% - 40€.</th>\n",
       "      <td>654</td>\n",
       "      <td>458</td>\n",
       "      <td>0.10</td>\n",
       "      <td>tshirt</td>\n",
       "      <td>BD</td>\n",
       "      <td>RLA</td>\n",
       "      <td>RLA</td>\n",
       "      <td>RLA</td>\n",
       "      <td>0.33</td>\n",
       "      <td>knitting-mix</td>\n",
       "      <td>large-business-without-services</td>\n",
       "      <td>14</td>\n",
       "      <td>120750</td>\n",
       "      <td>40</td>\n",
       "      <td>False</td>\n",
       "      <td>T-shirt / Polo : 0,100kg, matière : 90% Polyes...</td>\n",
       "      <td>[{'id': 'ei-pet', 'share': 0.9}, {'id': 'ei-ch...</td>\n",
       "      <td>{'id': 'ei-pet', 'share': 0.9}</td>\n",
       "      <td>{'id': 'ei-chanvre', 'share': 0.01}</td>\n",
       "      <td>{'id': 'ei-viscose', 'share': 0.09}</td>\n",
       "    </tr>\n",
       "    <tr>\n",
       "      <th>97 - Tshirt (280g) - C: TR - ATR: 33% - 18€.</th>\n",
       "      <td>2263</td>\n",
       "      <td>1411</td>\n",
       "      <td>0.28</td>\n",
       "      <td>tshirt</td>\n",
       "      <td>BD</td>\n",
       "      <td>TR</td>\n",
       "      <td>TR</td>\n",
       "      <td>TR</td>\n",
       "      <td>0.33</td>\n",
       "      <td>knitting-integral</td>\n",
       "      <td>large-business-with-services</td>\n",
       "      <td>151</td>\n",
       "      <td>94150</td>\n",
       "      <td>18</td>\n",
       "      <td>False</td>\n",
       "      <td>T-shirt / Polo : 0,280kg, matière : 59% Coton ...</td>\n",
       "      <td>[{'id': 'ei-coton', 'share': 0.59}, {'id': 'ei...</td>\n",
       "      <td>{'id': 'ei-coton', 'share': 0.59}</td>\n",
       "      <td>{'id': 'ei-pet', 'share': 0.33}</td>\n",
       "      <td>{'id': 'ei-lin', 'share': 0.08}</td>\n",
       "    </tr>\n",
       "    <tr>\n",
       "      <th>98 - Tshirt (280g) - C: RME - ATR: 100% - 33€.</th>\n",
       "      <td>1527</td>\n",
       "      <td>1076</td>\n",
       "      <td>0.28</td>\n",
       "      <td>tshirt</td>\n",
       "      <td>REO</td>\n",
       "      <td>RME</td>\n",
       "      <td>RME</td>\n",
       "      <td>RME</td>\n",
       "      <td>1.00</td>\n",
       "      <td>knitting-straight</td>\n",
       "      <td>large-business-without-services</td>\n",
       "      <td>13</td>\n",
       "      <td>105550</td>\n",
       "      <td>33</td>\n",
       "      <td>True</td>\n",
       "      <td>T-shirt / Polo : 0,280kg, matière : 78% Polyes...</td>\n",
       "      <td>[{'id': 'ei-pet', 'share': 0.78}, {'id': 'ei-c...</td>\n",
       "      <td>{'id': 'ei-pet', 'share': 0.78}</td>\n",
       "      <td>{'id': 'ei-chanvre', 'share': 0.02}</td>\n",
       "      <td>{'id': 'ei-viscose', 'share': 0.2}</td>\n",
       "    </tr>\n",
       "    <tr>\n",
       "      <th>99 - Tshirt (280g) - C: RLA - ATR: 100% - 29€.</th>\n",
       "      <td>1992</td>\n",
       "      <td>1304</td>\n",
       "      <td>0.28</td>\n",
       "      <td>tshirt</td>\n",
       "      <td>REE</td>\n",
       "      <td>RLA</td>\n",
       "      <td>RLA</td>\n",
       "      <td>RLA</td>\n",
       "      <td>1.00</td>\n",
       "      <td>knitting-integral</td>\n",
       "      <td>large-business-without-services</td>\n",
       "      <td>120</td>\n",
       "      <td>15950</td>\n",
       "      <td>29</td>\n",
       "      <td>True</td>\n",
       "      <td>T-shirt / Polo : 0,280kg, matière : 92% Coton ...</td>\n",
       "      <td>[{'id': 'ei-coton', 'share': 0.92}, {'id': 'ei...</td>\n",
       "      <td>{'id': 'ei-coton', 'share': 0.92}</td>\n",
       "      <td>{'id': 'ei-chanvre', 'share': 0.03}</td>\n",
       "      <td>{'id': 'ei-viscose', 'share': 0.05}</td>\n",
       "    </tr>\n",
       "    <tr>\n",
       "      <th>100 - Tshirt (130g) - C: TR - ATR: 100% - 35€.</th>\n",
       "      <td>1057</td>\n",
       "      <td>700</td>\n",
       "      <td>0.13</td>\n",
       "      <td>tshirt</td>\n",
       "      <td>ROC</td>\n",
       "      <td>TR</td>\n",
       "      <td>TR</td>\n",
       "      <td>TR</td>\n",
       "      <td>1.00</td>\n",
       "      <td>knitting-integral</td>\n",
       "      <td>small-business</td>\n",
       "      <td>6</td>\n",
       "      <td>75550</td>\n",
       "      <td>35</td>\n",
       "      <td>False</td>\n",
       "      <td>T-shirt / Polo : 0,130kg, matière : 92% Coton ...</td>\n",
       "      <td>[{'id': 'ei-coton', 'share': 0.92}, {'id': 'ei...</td>\n",
       "      <td>{'id': 'ei-coton', 'share': 0.92}</td>\n",
       "      <td>{'id': 'ei-pet', 'share': 0.04}</td>\n",
       "      <td>{'id': 'ei-lin', 'share': 0.04}</td>\n",
       "    </tr>\n",
       "  </tbody>\n",
       "</table>\n",
       "</div>"
      ],
      "text/plain": [
       "                                                 ecs   pef  mass product  \\\n",
       "91 - Tshirt (250g) - C: BD - ATR: 33% - 25€.    2538  1445  0.25  tshirt   \n",
       "92 - Tshirt (280g) - C: TR - ATR: 0% - 18€.     1799  1208  0.28  tshirt   \n",
       "93 - Tshirt (130g) - C: KH - ATR: 33% - 28€.     942   632  0.13  tshirt   \n",
       "94 - Tshirt (160g) - C: MM - ATR: 0% - 26€.     1290   710  0.16  tshirt   \n",
       "95 - Tshirt (190g) - C: MA - ATR: 0% - 20€.     1367   916  0.19  tshirt   \n",
       "96 - Tshirt (100g) - C: RLA - ATR: 33% - 40€.    654   458  0.10  tshirt   \n",
       "97 - Tshirt (280g) - C: TR - ATR: 33% - 18€.    2263  1411  0.28  tshirt   \n",
       "98 - Tshirt (280g) - C: RME - ATR: 100% - 33€.  1527  1076  0.28  tshirt   \n",
       "99 - Tshirt (280g) - C: RLA - ATR: 100% - 29€.  1992  1304  0.28  tshirt   \n",
       "100 - Tshirt (130g) - C: TR - ATR: 100% - 35€.  1057   700  0.13  tshirt   \n",
       "\n",
       "                                               countrySpinning countryFabric  \\\n",
       "91 - Tshirt (250g) - C: BD - ATR: 33% - 25€.                MM            BD   \n",
       "92 - Tshirt (280g) - C: TR - ATR: 0% - 18€.                 TN            TR   \n",
       "93 - Tshirt (130g) - C: KH - ATR: 33% - 28€.                VN            KH   \n",
       "94 - Tshirt (160g) - C: MM - ATR: 0% - 26€.                 PK            MM   \n",
       "95 - Tshirt (190g) - C: MA - ATR: 0% - 20€.                 KH            MA   \n",
       "96 - Tshirt (100g) - C: RLA - ATR: 33% - 40€.               BD           RLA   \n",
       "97 - Tshirt (280g) - C: TR - ATR: 33% - 18€.                BD            TR   \n",
       "98 - Tshirt (280g) - C: RME - ATR: 100% - 33€.             REO           RME   \n",
       "99 - Tshirt (280g) - C: RLA - ATR: 100% - 29€.             REE           RLA   \n",
       "100 - Tshirt (130g) - C: TR - ATR: 100% - 35€.             ROC            TR   \n",
       "\n",
       "                                               countryDyeing countryMaking  \\\n",
       "91 - Tshirt (250g) - C: BD - ATR: 33% - 25€.              BD            BD   \n",
       "92 - Tshirt (280g) - C: TR - ATR: 0% - 18€.               TR            TR   \n",
       "93 - Tshirt (130g) - C: KH - ATR: 33% - 28€.              KH            KH   \n",
       "94 - Tshirt (160g) - C: MM - ATR: 0% - 26€.               MM            MM   \n",
       "95 - Tshirt (190g) - C: MA - ATR: 0% - 20€.               MA            MA   \n",
       "96 - Tshirt (100g) - C: RLA - ATR: 33% - 40€.            RLA           RLA   \n",
       "97 - Tshirt (280g) - C: TR - ATR: 33% - 18€.              TR            TR   \n",
       "98 - Tshirt (280g) - C: RME - ATR: 100% - 33€.           RME           RME   \n",
       "99 - Tshirt (280g) - C: RLA - ATR: 100% - 29€.           RLA           RLA   \n",
       "100 - Tshirt (130g) - C: TR - ATR: 100% - 35€.            TR            TR   \n",
       "\n",
       "                                                airTransportRatio  \\\n",
       "91 - Tshirt (250g) - C: BD - ATR: 33% - 25€.                 0.33   \n",
       "92 - Tshirt (280g) - C: TR - ATR: 0% - 18€.                  0.00   \n",
       "93 - Tshirt (130g) - C: KH - ATR: 33% - 28€.                 0.33   \n",
       "94 - Tshirt (160g) - C: MM - ATR: 0% - 26€.                  0.00   \n",
       "95 - Tshirt (190g) - C: MA - ATR: 0% - 20€.                  0.00   \n",
       "96 - Tshirt (100g) - C: RLA - ATR: 33% - 40€.                0.33   \n",
       "97 - Tshirt (280g) - C: TR - ATR: 33% - 18€.                 0.33   \n",
       "98 - Tshirt (280g) - C: RME - ATR: 100% - 33€.               1.00   \n",
       "99 - Tshirt (280g) - C: RLA - ATR: 100% - 29€.               1.00   \n",
       "100 - Tshirt (130g) - C: TR - ATR: 100% - 35€.               1.00   \n",
       "\n",
       "                                                    fabricProcess  \\\n",
       "91 - Tshirt (250g) - C: BD - ATR: 33% - 25€.              weaving   \n",
       "92 - Tshirt (280g) - C: TR - ATR: 0% - 18€.     knitting-circular   \n",
       "93 - Tshirt (130g) - C: KH - ATR: 33% - 28€.              weaving   \n",
       "94 - Tshirt (160g) - C: MM - ATR: 0% - 26€.          knitting-mix   \n",
       "95 - Tshirt (190g) - C: MA - ATR: 0% - 20€.     knitting-straight   \n",
       "96 - Tshirt (100g) - C: RLA - ATR: 33% - 40€.        knitting-mix   \n",
       "97 - Tshirt (280g) - C: TR - ATR: 33% - 18€.    knitting-integral   \n",
       "98 - Tshirt (280g) - C: RME - ATR: 100% - 33€.  knitting-straight   \n",
       "99 - Tshirt (280g) - C: RLA - ATR: 100% - 29€.  knitting-integral   \n",
       "100 - Tshirt (130g) - C: TR - ATR: 100% - 35€.  knitting-integral   \n",
       "\n",
       "                                                                       business  \\\n",
       "91 - Tshirt (250g) - C: BD - ATR: 33% - 25€.                     small-business   \n",
       "92 - Tshirt (280g) - C: TR - ATR: 0% - 18€.     large-business-without-services   \n",
       "93 - Tshirt (130g) - C: KH - ATR: 33% - 28€.       large-business-with-services   \n",
       "94 - Tshirt (160g) - C: MM - ATR: 0% - 26€.        large-business-with-services   \n",
       "95 - Tshirt (190g) - C: MA - ATR: 0% - 20€.                      small-business   \n",
       "96 - Tshirt (100g) - C: RLA - ATR: 33% - 40€.   large-business-without-services   \n",
       "97 - Tshirt (280g) - C: TR - ATR: 33% - 18€.       large-business-with-services   \n",
       "98 - Tshirt (280g) - C: RME - ATR: 100% - 33€.  large-business-without-services   \n",
       "99 - Tshirt (280g) - C: RLA - ATR: 100% - 29€.  large-business-without-services   \n",
       "100 - Tshirt (130g) - C: TR - ATR: 100% - 35€.                   small-business   \n",
       "\n",
       "                                                marketingDuration  \\\n",
       "91 - Tshirt (250g) - C: BD - ATR: 33% - 25€.                   43   \n",
       "92 - Tshirt (280g) - C: TR - ATR: 0% - 18€.                    59   \n",
       "93 - Tshirt (130g) - C: KH - ATR: 33% - 28€.                    2   \n",
       "94 - Tshirt (160g) - C: MM - ATR: 0% - 26€.                   105   \n",
       "95 - Tshirt (190g) - C: MA - ATR: 0% - 20€.                   112   \n",
       "96 - Tshirt (100g) - C: RLA - ATR: 33% - 40€.                  14   \n",
       "97 - Tshirt (280g) - C: TR - ATR: 33% - 18€.                  151   \n",
       "98 - Tshirt (280g) - C: RME - ATR: 100% - 33€.                 13   \n",
       "99 - Tshirt (280g) - C: RLA - ATR: 100% - 29€.                120   \n",
       "100 - Tshirt (130g) - C: TR - ATR: 100% - 35€.                  6   \n",
       "\n",
       "                                                numberOfReferences  price  \\\n",
       "91 - Tshirt (250g) - C: BD - ATR: 33% - 25€.                131150     25   \n",
       "92 - Tshirt (280g) - C: TR - ATR: 0% - 18€.                  24950     18   \n",
       "93 - Tshirt (130g) - C: KH - ATR: 33% - 28€.                147750     28   \n",
       "94 - Tshirt (160g) - C: MM - ATR: 0% - 26€.                  42750     26   \n",
       "95 - Tshirt (190g) - C: MA - ATR: 0% - 20€.                 116150     20   \n",
       "96 - Tshirt (100g) - C: RLA - ATR: 33% - 40€.               120750     40   \n",
       "97 - Tshirt (280g) - C: TR - ATR: 33% - 18€.                 94150     18   \n",
       "98 - Tshirt (280g) - C: RME - ATR: 100% - 33€.              105550     33   \n",
       "99 - Tshirt (280g) - C: RLA - ATR: 100% - 29€.               15950     29   \n",
       "100 - Tshirt (130g) - C: TR - ATR: 100% - 35€.               75550     35   \n",
       "\n",
       "                                                traceability  \\\n",
       "91 - Tshirt (250g) - C: BD - ATR: 33% - 25€.           False   \n",
       "92 - Tshirt (280g) - C: TR - ATR: 0% - 18€.             True   \n",
       "93 - Tshirt (130g) - C: KH - ATR: 33% - 28€.            True   \n",
       "94 - Tshirt (160g) - C: MM - ATR: 0% - 26€.            False   \n",
       "95 - Tshirt (190g) - C: MA - ATR: 0% - 20€.            False   \n",
       "96 - Tshirt (100g) - C: RLA - ATR: 33% - 40€.          False   \n",
       "97 - Tshirt (280g) - C: TR - ATR: 33% - 18€.           False   \n",
       "98 - Tshirt (280g) - C: RME - ATR: 100% - 33€.          True   \n",
       "99 - Tshirt (280g) - C: RLA - ATR: 100% - 29€.          True   \n",
       "100 - Tshirt (130g) - C: TR - ATR: 100% - 35€.         False   \n",
       "\n",
       "                                                                                      description  \\\n",
       "91 - Tshirt (250g) - C: BD - ATR: 33% - 25€.    T-shirt / Polo : 0,250kg, matière : 99% Coton ...   \n",
       "92 - Tshirt (280g) - C: TR - ATR: 0% - 18€.     T-shirt / Polo : 0,280kg, matière : 73% Polyes...   \n",
       "93 - Tshirt (130g) - C: KH - ATR: 33% - 28€.    T-shirt / Polo : 0,130kg, matière : 89% Coton ...   \n",
       "94 - Tshirt (160g) - C: MM - ATR: 0% - 26€.     T-shirt / Polo : 0,160kg, matière : 62% Coton ...   \n",
       "95 - Tshirt (190g) - C: MA - ATR: 0% - 20€.     T-shirt / Polo : 0,190kg, matière : 91% Polyes...   \n",
       "96 - Tshirt (100g) - C: RLA - ATR: 33% - 40€.   T-shirt / Polo : 0,100kg, matière : 90% Polyes...   \n",
       "97 - Tshirt (280g) - C: TR - ATR: 33% - 18€.    T-shirt / Polo : 0,280kg, matière : 59% Coton ...   \n",
       "98 - Tshirt (280g) - C: RME - ATR: 100% - 33€.  T-shirt / Polo : 0,280kg, matière : 78% Polyes...   \n",
       "99 - Tshirt (280g) - C: RLA - ATR: 100% - 29€.  T-shirt / Polo : 0,280kg, matière : 92% Coton ...   \n",
       "100 - Tshirt (130g) - C: TR - ATR: 100% - 35€.  T-shirt / Polo : 0,130kg, matière : 92% Coton ...   \n",
       "\n",
       "                                                                                        materials  \\\n",
       "91 - Tshirt (250g) - C: BD - ATR: 33% - 25€.    [{'id': 'ei-coton', 'share': 0.99}, {'id': 'ei...   \n",
       "92 - Tshirt (280g) - C: TR - ATR: 0% - 18€.     [{'id': 'ei-pet', 'share': 0.73}, {'id': 'ei-l...   \n",
       "93 - Tshirt (130g) - C: KH - ATR: 33% - 28€.    [{'id': 'ei-coton', 'share': 0.89}, {'id': 'ei...   \n",
       "94 - Tshirt (160g) - C: MM - ATR: 0% - 26€.     [{'id': 'ei-coton', 'share': 0.62}, {'id': 'ei...   \n",
       "95 - Tshirt (190g) - C: MA - ATR: 0% - 20€.     [{'id': 'ei-pet', 'share': 0.91}, {'id': 'ei-c...   \n",
       "96 - Tshirt (100g) - C: RLA - ATR: 33% - 40€.   [{'id': 'ei-pet', 'share': 0.9}, {'id': 'ei-ch...   \n",
       "97 - Tshirt (280g) - C: TR - ATR: 33% - 18€.    [{'id': 'ei-coton', 'share': 0.59}, {'id': 'ei...   \n",
       "98 - Tshirt (280g) - C: RME - ATR: 100% - 33€.  [{'id': 'ei-pet', 'share': 0.78}, {'id': 'ei-c...   \n",
       "99 - Tshirt (280g) - C: RLA - ATR: 100% - 29€.  [{'id': 'ei-coton', 'share': 0.92}, {'id': 'ei...   \n",
       "100 - Tshirt (130g) - C: TR - ATR: 100% - 35€.  [{'id': 'ei-coton', 'share': 0.92}, {'id': 'ei...   \n",
       "\n",
       "                                                                       material_1  \\\n",
       "91 - Tshirt (250g) - C: BD - ATR: 33% - 25€.    {'id': 'ei-coton', 'share': 0.99}   \n",
       "92 - Tshirt (280g) - C: TR - ATR: 0% - 18€.       {'id': 'ei-pet', 'share': 0.73}   \n",
       "93 - Tshirt (130g) - C: KH - ATR: 33% - 28€.    {'id': 'ei-coton', 'share': 0.89}   \n",
       "94 - Tshirt (160g) - C: MM - ATR: 0% - 26€.     {'id': 'ei-coton', 'share': 0.62}   \n",
       "95 - Tshirt (190g) - C: MA - ATR: 0% - 20€.       {'id': 'ei-pet', 'share': 0.91}   \n",
       "96 - Tshirt (100g) - C: RLA - ATR: 33% - 40€.      {'id': 'ei-pet', 'share': 0.9}   \n",
       "97 - Tshirt (280g) - C: TR - ATR: 33% - 18€.    {'id': 'ei-coton', 'share': 0.59}   \n",
       "98 - Tshirt (280g) - C: RME - ATR: 100% - 33€.    {'id': 'ei-pet', 'share': 0.78}   \n",
       "99 - Tshirt (280g) - C: RLA - ATR: 100% - 29€.  {'id': 'ei-coton', 'share': 0.92}   \n",
       "100 - Tshirt (130g) - C: TR - ATR: 100% - 35€.  {'id': 'ei-coton', 'share': 0.92}   \n",
       "\n",
       "                                                                         material_2  \\\n",
       "91 - Tshirt (250g) - C: BD - ATR: 33% - 25€.         {'id': 'ei-pet', 'share': 0.0}   \n",
       "92 - Tshirt (280g) - C: TR - ATR: 0% - 18€.         {'id': 'ei-lin', 'share': 0.26}   \n",
       "93 - Tshirt (130g) - C: KH - ATR: 33% - 28€.    {'id': 'ei-chanvre', 'share': 0.07}   \n",
       "94 - Tshirt (160g) - C: MM - ATR: 0% - 26€.         {'id': 'ei-pet', 'share': 0.19}   \n",
       "95 - Tshirt (190g) - C: MA - ATR: 0% - 20€.     {'id': 'ei-chanvre', 'share': 0.06}   \n",
       "96 - Tshirt (100g) - C: RLA - ATR: 33% - 40€.   {'id': 'ei-chanvre', 'share': 0.01}   \n",
       "97 - Tshirt (280g) - C: TR - ATR: 33% - 18€.        {'id': 'ei-pet', 'share': 0.33}   \n",
       "98 - Tshirt (280g) - C: RME - ATR: 100% - 33€.  {'id': 'ei-chanvre', 'share': 0.02}   \n",
       "99 - Tshirt (280g) - C: RLA - ATR: 100% - 29€.  {'id': 'ei-chanvre', 'share': 0.03}   \n",
       "100 - Tshirt (130g) - C: TR - ATR: 100% - 35€.      {'id': 'ei-pet', 'share': 0.04}   \n",
       "\n",
       "                                                                         material_3  \n",
       "91 - Tshirt (250g) - C: BD - ATR: 33% - 25€.        {'id': 'ei-lin', 'share': 0.01}  \n",
       "92 - Tshirt (280g) - C: TR - ATR: 0% - 18€.     {'id': 'ei-viscose', 'share': 0.01}  \n",
       "93 - Tshirt (130g) - C: KH - ATR: 33% - 28€.    {'id': 'ei-viscose', 'share': 0.04}  \n",
       "94 - Tshirt (160g) - C: MM - ATR: 0% - 26€.     {'id': 'ei-viscose', 'share': 0.19}  \n",
       "95 - Tshirt (190g) - C: MA - ATR: 0% - 20€.     {'id': 'ei-viscose', 'share': 0.03}  \n",
       "96 - Tshirt (100g) - C: RLA - ATR: 33% - 40€.   {'id': 'ei-viscose', 'share': 0.09}  \n",
       "97 - Tshirt (280g) - C: TR - ATR: 33% - 18€.        {'id': 'ei-lin', 'share': 0.08}  \n",
       "98 - Tshirt (280g) - C: RME - ATR: 100% - 33€.   {'id': 'ei-viscose', 'share': 0.2}  \n",
       "99 - Tshirt (280g) - C: RLA - ATR: 100% - 29€.  {'id': 'ei-viscose', 'share': 0.05}  \n",
       "100 - Tshirt (130g) - C: TR - ATR: 100% - 35€.      {'id': 'ei-lin', 'share': 0.04}  "
      ]
     },
     "execution_count": 18,
     "metadata": {},
     "output_type": "execute_result"
    }
   ],
   "source": [
    "import pandas as pd\n",
    "import numpy as np\n",
    "\n",
    "import requests\n",
    "from requests.exceptions import RequestException\n",
    "\n",
    "# Import de la bibliothèque time et calcul du temps au début de l'exécution (t0)\n",
    "from time import time\n",
    "t0 = time()\n",
    "\n",
    "# Calcul de l'impact environnemental pour une liste de 'n' t-shirts générés aléatoirement (n=10 par défaut)\n",
    "df_results = create_random_tshirts(100)\n",
    "\n",
    "# Calcul du temps de la génération de liste aléatoire\n",
    "t1 = time() - t0\n",
    "\n",
    "# Affichage du résultat\n",
    "print(\"Liste d'impacts de T-shirts générés aléatoirement (seules les 10 dernières lignes du résultat sont affichées).\" + '\\n')\n",
    "print('Nbre de ligne(s) du tableau résultat : ' + str(df_results.shape[0]) + '\\n')\n",
    "print(\"Réalisé en {} secondes\".format(round(t1,3)) + '\\n')\n",
    "df_results.tail(10)    \n",
    "    "
   ]
  },
  {
   "cell_type": "markdown",
   "id": "ff77bd3a-d36a-4b56-9dc8-89de66114c5d",
   "metadata": {},
   "source": [
    "|                                    | \n",
    "|:--:                                |\n",
    "| [(Retour au sommaire)](#summaryUp-3-A) |"
   ]
  },
  {
   "cell_type": "markdown",
   "id": "f1b9a97c-f053-4862-81ce-b3198dab4a00",
   "metadata": {},
   "source": [
    "### <a name=\"anchor04\" />Créer une BDD MongoDB Atlas"
   ]
  },
  {
   "cell_type": "markdown",
   "id": "d287e570-e2ab-42f3-8495-30b69106cf9f",
   "metadata": {
    "tags": []
   },
   "source": [
    "#### <a name=\"anchor04_C1-43\" /><u>Exemple</u> : Créer un cluster MongoDB Atlas et importer un fichier JSON ou CSV "
   ]
  },
  {
   "cell_type": "markdown",
   "id": "bf53c0e4-2fd8-4fcb-9a9f-d6bd7c9375eb",
   "metadata": {
    "tags": []
   },
   "source": [
    "<b>Créer un cluster MongoDB Atlas :</b>\n",
    "\n",
    "- Se connecter au compte MongoDB Atlas à l’adresse https://cloud.mongodb.com \n",
    "- Installer MongoDB Compass localement, sur son PC\n",
    "- Autoriser l'accès depuis n'importe quelle adresse IP"
   ]
  },
  {
   "cell_type": "markdown",
   "id": "310745f4-8bac-4d9f-a327-a8c426695fea",
   "metadata": {},
   "source": [
    "<img src=\"./10-mongoDB-Atlas_001.png\" alt=\"MongoDB Atlas - Network access\" style=\"width:800px;height:auto;\">"
   ]
  },
  {
   "cell_type": "markdown",
   "id": "cfd23fd7-ccbb-47b3-b845-2fb669763add",
   "metadata": {},
   "source": [
    "- Mettre à jour / Définir le mot de passe de l'utilisateur par défaut, pour l'accès à la BDD"
   ]
  },
  {
   "cell_type": "markdown",
   "id": "b1c15c52-52d2-45b6-bf2c-bfe053d7fe1f",
   "metadata": {},
   "source": [
    "<img src=\"./10-mongoDB-Atlas_002.png\" alt=\"MongoDB Atlas - Database access\" style=\"width:800px;height:auto;\">"
   ]
  },
  {
   "cell_type": "markdown",
   "id": "a4160d02-c1bb-43f1-96c8-bb4ffb6cf8c5",
   "metadata": {},
   "source": [
    "- Créer un Cluster, le type, le fournisseur, la région."
   ]
  },
  {
   "cell_type": "markdown",
   "id": "5272654b-c174-4046-aa1e-0a58c8d92646",
   "metadata": {},
   "source": [
    "<img src=\"./10-mongoDB-Atlas_003.png\" alt=\"MongoDB Atlas - Build a Cluster\" style=\"width:800px;height:auto;\">"
   ]
  },
  {
   "cell_type": "markdown",
   "id": "d4c79719-c2ca-4c34-a298-cca15602e48b",
   "metadata": {},
   "source": [
    "<img src=\"./10-mongoDB-Atlas_004.png\" alt=\"MongoDB Atlas - Database access\" style=\"width:800px;height:auto;\">"
   ]
  },
  {
   "cell_type": "markdown",
   "id": "8e45de84-2162-4c13-bf4f-46a1466600ae",
   "metadata": {},
   "source": [
    "- Préciser la méthode d''accès au Cluster"
   ]
  },
  {
   "cell_type": "markdown",
   "id": "296881f6-9779-4bf1-88c8-2271313b0e68",
   "metadata": {},
   "source": [
    "<img src=\"./10-mongoDB-Atlas_005.png\" alt=\"MongoDB Atlas - Database access\" style=\"width:600px;height:auto;\">"
   ]
  },
  {
   "cell_type": "markdown",
   "id": "95ba2149-4e4f-4bf0-8f63-a3862351bb39",
   "metadata": {},
   "source": [
    "- Se connecter au Cluster\n",
    "- Créer la Base de Données du Cluster, ainsi que la Collection"
   ]
  },
  {
   "cell_type": "markdown",
   "id": "b675764c-f2b3-45cd-bb11-f007cea1f05d",
   "metadata": {},
   "source": [
    "<img src=\"./10-mongoDB-Atlas_006.png\" alt=\"MongoDB Atlas - Database access\" style=\"width:600px;height:auto;\">"
   ]
  },
  {
   "cell_type": "markdown",
   "id": "1e607e8c-5831-4761-9427-93184ea61717",
   "metadata": {
    "tags": []
   },
   "source": [
    "<b>Importer un fichier JSON ou CSV dans MongoDB Atlas :</b>\n",
    "\n",
    "- Naviguer vers la collection cible.\n",
    "- Cliquer sur le menu déroulant “Ajouter des données” et sélectionner “Importer un fichier JSON ou CSV”.\n",
    "- Sélectionner le type de fichier approprié.\n",
    "- Sélectionner le fichier JSON ou CSV à importer et cliquer sur “Sélectionner”."
   ]
  },
  {
   "cell_type": "markdown",
   "id": "9254efd5-9cff-4de9-b794-8bd5eba20b04",
   "metadata": {
    "tags": []
   },
   "source": [
    "<img src=\"./10-mongoDB-Atlas_007.png\" alt=\"MongoDB Atlas - Database access\" style=\"width:800px;height:auto;\">"
   ]
  },
  {
   "cell_type": "markdown",
   "id": "f57070c5-1c2e-4aee-9e23-38645aaaecb3",
   "metadata": {
    "tags": []
   },
   "source": [
    "<img src=\"./10-mongoDB-Atlas_008.png\" alt=\"MongoDB Atlas - Database access\" style=\"width:800px;height:auto;\">"
   ]
  },
  {
   "cell_type": "markdown",
   "id": "eeb6fbb5-0a7f-4a65-9be0-a839bb5bfb80",
   "metadata": {
    "tags": []
   },
   "source": [
    "<img src=\"./10-mongoDB-Atlas_009.png\" alt=\"MongoDB Atlas - Database access\" style=\"width:800px;height:auto;\">"
   ]
  },
  {
   "cell_type": "markdown",
   "id": "682d66ac-a452-4ff8-b162-3488b3d60486",
   "metadata": {},
   "source": [
    "|                                    | \n",
    "|:--:                                |\n",
    "| [(Retour au sommaire)](#summaryUp-4-A) |"
   ]
  },
  {
   "cell_type": "markdown",
   "id": "0b322c91-7ca5-445c-9293-06aef4bf4749",
   "metadata": {},
   "source": [
    "<a name=\"anchorDown\" />\n",
    "\n",
    "##### PROJET : Impact Textile avec EcoBalyze - Collecte tshirt\n",
    "\n",
    "|                                          |                               |\n",
    "|:--:                                      |:--:                           |\n",
    "| [(Retour au sommaire)](#summaryUp)  | [(Aller au début)](#anchorUp) |"
   ]
  }
 ],
 "metadata": {
  "kernelspec": {
   "display_name": "Python 3 (ipykernel)",
   "language": "python",
   "name": "python3"
  },
  "language_info": {
   "codemirror_mode": {
    "name": "ipython",
    "version": 3
   },
   "file_extension": ".py",
   "mimetype": "text/x-python",
   "name": "python",
   "nbconvert_exporter": "python",
   "pygments_lexer": "ipython3",
   "version": "3.11.1"
  }
 },
 "nbformat": 4,
 "nbformat_minor": 5
}
