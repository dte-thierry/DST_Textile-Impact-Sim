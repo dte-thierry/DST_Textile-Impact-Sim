{
 "cells": [
  {
   "cell_type": "markdown",
   "id": "59b37832-086d-4c98-b2b3-fb54cf706cd0",
   "metadata": {},
   "source": [
    "<a name=\"anchorUp\" />\n",
    "\n",
    "<img src=\"./00-logo_datascientest.png\" alt=\"image\" style=\"width:250px;height:auto;\">\n",
    "\n",
    "# FORMATION : Data Engineer\n",
    "# PROJET : Impact Textile avec EcoBalyze\n",
    "# 01 - Collecte - jupe / robe"
   ]
  },
  {
   "cell_type": "markdown",
   "id": "52a30bc5-6930-4011-a634-894172225e23",
   "metadata": {},
   "source": [
    "## Temps Partiel (9 mois) - jan24_continu_de / cde_projet_ecobalyze"
   ]
  },
  {
   "cell_type": "markdown",
   "id": "b28c223c-ecc1-4823-b3f9-2aeab803828a",
   "metadata": {
    "tags": []
   },
   "source": [
    "### Dernière Mise A Jour du Document : Sam. 01/06/2024 - Version : 0.12"
   ]
  },
  {
   "cell_type": "markdown",
   "id": "3ffbdea2-d92d-404a-90dd-6a5b91e6d7db",
   "metadata": {},
   "source": [
    "<div style=\"padding-right: 200px;\">\n",
    "\n",
    "---\n",
    "    \n",
    "</div>"
   ]
  },
  {
   "cell_type": "markdown",
   "id": "b423a90c-e861-4ac5-ac94-cf7a5d583b6e",
   "metadata": {},
   "source": [
    "<a name=\"summaryUp\" />\n",
    "\n",
    "## Sommaire"
   ]
  },
  {
   "cell_type": "markdown",
   "id": "c7c92974-c889-450b-b94f-7f97d445ade9",
   "metadata": {},
   "source": [
    "<a name=\"summaryUp-3-A\" />\n",
    "\n",
    "[`Calcul & Collecte des données - jupe`](#anchor03)\n",
    "\n",
    "- [<u>Exemple</u>: Génération d'une Jupe avec des données aléatoires](#anchor03_C1-43-13) \n",
    "    - [<b>Fonction</b>: get_random_mass()](#anchor03_C1-43-01)\n",
    "    - [<b>Fonction</b>: get_random_country()](#anchor03_C1-43-02)    \n",
    "    - [<b>Fonction</b>: get_random_airTransportRatio()](#anchor03_C1-43-03)   \n",
    "    - [<b>Fonction</b>: get_random_price_jupe()](#anchor03_C1-43-04)    \n",
    "    - [<b>Fonction</b>: get_random_traceability()](#anchor03_C1-43-05)   \n",
    "    - [<b>Fonction</b>: get_random_business()](#anchor03_C1-43-06) \n",
    "    - [<b>Fonction</b>: get_random_fabricProcess()](#anchor03_C1-43-07)   \n",
    "    - [<b>Fonction</b>: get_random_marketingDuration()](#anchor03_C1-43-08)     \n",
    "    - [<b>Fonction</b>: get_random_numberOfReferences()](#anchor03_C1-43-09)    \n",
    "    - [<b>Fonction</b>: get_random_materials()](#anchor03_C1-43-10)  \n",
    "    - [<b>Fonction</b>: choose_random_materials_jupe()](#anchor03_C1-43-11)                \n",
    "    - [<b>Fonction</b>: `get_random_data_jupe()`](#anchor03_C1-43-12)"
   ]
  },
  {
   "cell_type": "markdown",
   "id": "d006a7cc-c844-48af-b3a7-b55ac82480ff",
   "metadata": {},
   "source": [
    "- [<u>Exemple</u>: Génération aléatoire d'une liste de Jupes et sauvegarde en Json / CSV](#anchor03_C1-44-02)  \n",
    "    - [<b>Fonction</b>: `create_random_jupes()`](#anchor03_C1-44-01)"
   ]
  },
  {
   "cell_type": "markdown",
   "id": "7e4bf611-f58c-4f72-a415-468f99d5ce07",
   "metadata": {},
   "source": [
    "<a name=\"summaryUp-4-A\" />\n",
    "\n",
    "[`Créer une BDD MongoDB Atlas`](#anchor04)\n",
    "- [<u>Exemple</u>: Créer un cluster MongoDB Atlas et importer un fichier JSON ou CSV](#anchor04_C1-43)"
   ]
  },
  {
   "cell_type": "markdown",
   "id": "c69b89dd-8120-4ccd-91ad-eb3378890950",
   "metadata": {},
   "source": [
    "|                                |                                 |\n",
    "|:--:                            |:--:                             |\n",
    "| [(Aller au début)](#anchorUp)  | [(Aller à la fin)](#anchorDown) |"
   ]
  },
  {
   "cell_type": "markdown",
   "id": "3bfa7117-c1b9-4180-aecc-203cac26fd5b",
   "metadata": {},
   "source": [
    "### <a name=\"anchor03\" />Calcul & Collecte des données"
   ]
  },
  {
   "cell_type": "markdown",
   "id": "4f3370e9-3ae2-4b1f-bf34-4f949c9d65c6",
   "metadata": {},
   "source": [
    "##### <a name=\"anchor03_C1-43\" /><u>Exemple</u> : Génération d'une Jupe avec des données aléatoires "
   ]
  },
  {
   "cell_type": "markdown",
   "id": "c89c8846-0da6-4548-b093-52c8484f64a9",
   "metadata": {},
   "source": [
    "###### <a name=\"anchor03_C1-43-01\" /><b>Fonction</b> : get_random_mass()"
   ]
  },
  {
   "cell_type": "code",
   "execution_count": 1,
   "id": "5260cded-9ed0-4fed-81b9-ae3795331833",
   "metadata": {},
   "outputs": [],
   "source": [
    "import numpy as np\n",
    "\n",
    "# mass : masse du produit fini, exprimée en kilogrammes. Min 0.10 , Max 0.30 , par pas de 0.03\n",
    "def get_random_mass(min=0.1, max=0.3, pas=0.03):\n",
    "    # Générer une valeur de masse aléatoire entre 0.1 et 0.3 avec un pas de 0.03\n",
    "    mass = np.random.choice(np.arange(min, max, pas))\n",
    "    return mass\n"
   ]
  },
  {
   "cell_type": "markdown",
   "id": "83ac4bb2-9063-4214-be6f-f416abc30d7c",
   "metadata": {},
   "source": [
    "|                                    | \n",
    "|:--:                                |\n",
    "| [(Retour au sommaire)](#summaryUp-3-A) |"
   ]
  },
  {
   "cell_type": "markdown",
   "id": "f9dddbea-3c7d-48d4-b4fc-d7e9918dd8f2",
   "metadata": {},
   "source": [
    "###### <a name=\"anchor03_C1-43-02\" /><b>Fonction</b> : get_random_country()"
   ]
  },
  {
   "cell_type": "code",
   "execution_count": 2,
   "id": "1ac8bdcb-352b-4949-b552-738fc0a76f74",
   "metadata": {},
   "outputs": [],
   "source": [
    "import numpy as np\n",
    "\n",
    "# Associer un code pays pour les étapes de fabrication (filature, tissage / tricotage, teinture , confection)\n",
    "def get_random_country():\n",
    "    # Liste des valeurs possibles de pays\n",
    "    country_values = ['BD', 'KH', 'CN', 'FR', '---', 'IN', 'MA', 'MM', 'PK', 'RAF', 'RLA', \\\n",
    "                      'RNA', 'RAS', 'REE', 'REO', 'RME', 'ROC', 'TN', 'TR', 'VN']\n",
    "    # Générérer une valeur aléatoire de code pays pour le T-Shirt\n",
    "    country_code = np.random.choice(country_values)\n",
    "    return country_code\n"
   ]
  },
  {
   "cell_type": "markdown",
   "id": "f62ff817-3d56-4f86-8219-57465d61c6b3",
   "metadata": {},
   "source": [
    "|                                    | \n",
    "|:--:                                |\n",
    "| [(Retour au sommaire)](#summaryUp-3-A) |"
   ]
  },
  {
   "cell_type": "markdown",
   "id": "399bf708-fe09-43ac-a01c-c21e32062243",
   "metadata": {},
   "source": [
    "###### <a name=\"anchor03_C1-43-03\" /><b>Fonction</b> : get_random_airTransportRatio()"
   ]
  },
  {
   "cell_type": "code",
   "execution_count": 3,
   "id": "aa97c9e0-d572-45fd-bf64-0c758e6e75c1",
   "metadata": {},
   "outputs": [],
   "source": [
    "import numpy as np\n",
    "\n",
    "# Générer une valeur aléatoire pour la part de transport aérien (0%, 33%, ou 100%)\n",
    "def get_random_airTransportRatio():\n",
    "    # Liste des valeurs possibles de airTransportRatio \n",
    "    airTransportRatio_values = [0, 0.33, 1]\n",
    "    # Générer une valeur aléatoire\n",
    "    airTransportRatio = np.random.choice(airTransportRatio_values)\n",
    "    return airTransportRatio\n"
   ]
  },
  {
   "cell_type": "markdown",
   "id": "3d0d90c5-4ac0-4aba-b08e-ae48515215e0",
   "metadata": {},
   "source": [
    "|                                    | \n",
    "|:--:                                |\n",
    "| [(Retour au sommaire)](#summaryUp-3-A) |"
   ]
  },
  {
   "cell_type": "markdown",
   "id": "820ff1b5-540b-4b0d-a30f-79de67937e82",
   "metadata": {},
   "source": [
    "###### <a name=\"anchor03_C1-43-04\" /><b>Fonction</b> : get_random_price_jupe()"
   ]
  },
  {
   "cell_type": "code",
   "execution_count": 4,
   "id": "de59df4d-d8ce-4a16-bbb7-5d2bada7c839",
   "metadata": {},
   "outputs": [],
   "source": [
    "import numpy as np\n",
    "\n",
    "# Générer une valeur aléatoire de prix, entre 10€ et 40€ maxi pour un T-Shirt.\n",
    "def get_random_price_jupe(min=1, max=1000):\n",
    "    # Définir la valeur initiale du prix d'une jupe : min = 8€\n",
    "    initial_price = min    \n",
    "    # Calculer le pourcentage maximum possible pour que le prix final ne dépasse pas max = 99€\n",
    "    max_percentage = (max - initial_price) / initial_price    \n",
    "    # Générer un pourcentage aléatoire entre 0% et le pourcentage maximum\n",
    "    random_percentage = np.random.uniform(0, max_percentage)    \n",
    "    # Calculer le prix final en appliquant le pourcentage aléatoire\n",
    "    final_price = initial_price * (1 + random_percentage)\n",
    "    prix_arrondi = int(np.ceil(final_price))\n",
    "    # Retourner le prix final arrondi\n",
    "    return prix_arrondi"
   ]
  },
  {
   "cell_type": "markdown",
   "id": "80254cdc-b6fe-4463-82c4-cd2b8adc6e10",
   "metadata": {},
   "source": [
    "|                                    | \n",
    "|:--:                                |\n",
    "| [(Retour au sommaire)](#summaryUp-3-A) |"
   ]
  },
  {
   "cell_type": "markdown",
   "id": "63c3b31b-05b3-4490-971f-602f8fcd1322",
   "metadata": {},
   "source": [
    "###### <a name=\"anchor03_C1-43-05\" /><b>Fonction</b> : get_random_traceability()"
   ]
  },
  {
   "cell_type": "code",
   "execution_count": 5,
   "id": "70b077c8-43a1-458a-9243-022ae1224787",
   "metadata": {},
   "outputs": [],
   "source": [
    "import random\n",
    "\n",
    "def get_random_traceability():\n",
    "    \"\"\"\n",
    "    Cette fonction renvoie de manière aléatoire True ou False pour le paramètre 'traceability'.\n",
    "\n",
    "    Returns:\n",
    "        bool: True ou False choisi de manière aléatoire.\n",
    "    \"\"\"\n",
    "    return random.choice([True, False])"
   ]
  },
  {
   "cell_type": "markdown",
   "id": "30925057-4a0b-4249-a1b4-ba356d10736c",
   "metadata": {},
   "source": [
    "|                                    | \n",
    "|:--:                                |\n",
    "| [(Retour au sommaire)](#summaryUp-3-A) |"
   ]
  },
  {
   "cell_type": "markdown",
   "id": "d4f38f28-86b2-44e7-a5f9-6cd99f6a0bdc",
   "metadata": {},
   "source": [
    "###### <a name=\"anchor03_C1-43-06\" /><b>Fonction</b> : get_random_business()"
   ]
  },
  {
   "cell_type": "code",
   "execution_count": 6,
   "id": "174c789d-f4fc-4aad-82f3-259798a2b0a2",
   "metadata": {},
   "outputs": [],
   "source": [
    "import numpy as np\n",
    "\n",
    "def get_random_business():\n",
    "    \"\"\"\n",
    "    Cette fonction renvoie de manière aléatoire une des valeurs permises pour le paramètre 'business'.\n",
    "\n",
    "    Returns:\n",
    "        String: 'small-business' ┃ 'large-business-with-services' ┃ 'large-business-without-services', choisi de manière aléatoire.\n",
    "    \"\"\"\n",
    "    return np.random.choice(['small-business', 'large-business-with-services', 'large-business-without-services'])"
   ]
  },
  {
   "cell_type": "markdown",
   "id": "082a8ca0-4072-459f-bc38-296cd60a4510",
   "metadata": {},
   "source": [
    "|                                    | \n",
    "|:--:                                |\n",
    "| [(Retour au sommaire)](#summaryUp-3-A) |"
   ]
  },
  {
   "cell_type": "markdown",
   "id": "daaa4a25-0ae4-446f-b365-0fdfa477b444",
   "metadata": {},
   "source": [
    "###### <a name=\"anchor03_C1-43-07\" /><b>Fonction</b> : get_random_fabricProcess()"
   ]
  },
  {
   "cell_type": "code",
   "execution_count": 7,
   "id": "1ab6ea60-319a-4f60-a305-1ae7ece90175",
   "metadata": {},
   "outputs": [],
   "source": [
    "import numpy as np\n",
    "\n",
    "def get_random_fabricProcess():\n",
    "    \"\"\"\n",
    "    Cette fonction renvoie de manière aléatoire une des valeurs permises pour le paramètre 'fabricProcess'.\n",
    "\n",
    "    Returns:\n",
    "        String: 'knitting-mix' ┃ 'knitting-fully-fashioned' ┃ 'knitting-integral' ┃ 'knitting-circular' ┃ 'knitting-straight' ┃ 'weaving'\n",
    "    \"\"\"\n",
    "    return np.random.choice(['knitting-mix', 'knitting-fully-fashioned', 'knitting-integral', \\\n",
    "                             'knitting-circular', 'knitting-straight', 'weaving'])"
   ]
  },
  {
   "cell_type": "markdown",
   "id": "c2e09ab6-c09b-4732-9293-0c2634c3273a",
   "metadata": {},
   "source": [
    "|                                    | \n",
    "|:--:                                |\n",
    "| [(Retour au sommaire)](#summaryUp-3-A) |"
   ]
  },
  {
   "cell_type": "markdown",
   "id": "6580cb0d-c7ad-4bc5-99b5-c939aef50fa5",
   "metadata": {},
   "source": [
    "###### <a name=\"anchor03_C1-43-08\" /><b>Fonction</b> : get_random_marketingDuration()"
   ]
  },
  {
   "cell_type": "code",
   "execution_count": 8,
   "id": "107ec2af-d672-4822-8f33-ab4879b99e82",
   "metadata": {},
   "outputs": [],
   "source": [
    "import random\n",
    "\n",
    "def get_random_marketingDuration(seasonal_variability=120, quarterly_variability=240, prolonged_period=360):\n",
    "    \"\"\"\n",
    "    Cette fonction génère une durée de commercialisation aléatoire en nombre de jours.\n",
    "    \n",
    "    Args:\n",
    "    seasonal_variability (int): La durée de la variabilité saisonnière en jours. Par défaut, elle est fixée à 120 jours.\n",
    "    quarterly_variability (int): La durée de la variabilité trimestrielle en jours. Par défaut, elle est fixée à 240 jours.\n",
    "    prolonged_period (int): La durée d'une période prolongée en jours. Par défaut, elle est fixée à 360 jours.\n",
    "\n",
    "    Returns:\n",
    "    int: La durée de commercialisation générée aléatoirement en nombre de jours.\n",
    "    \"\"\"\n",
    "    # Créer une liste avec les différentes durées\n",
    "    durations = [seasonal_variability, quarterly_variability, prolonged_period]\n",
    "    \n",
    "    # Choisir une durée aléatoirement\n",
    "    chosen_duration = random.choice(durations)\n",
    "    \n",
    "    # Générer un nombre aléatoire de jours dans la durée choisie\n",
    "    marketing_duration = random.randint(1, chosen_duration)\n",
    "    \n",
    "    # S'assurer que la durée de commercialisation ne dépasse pas 999 jours\n",
    "    marketing_duration = min(marketing_duration, 999)\n",
    "    \n",
    "    return marketing_duration"
   ]
  },
  {
   "cell_type": "markdown",
   "id": "37968ea8-a165-4ad1-88de-7d8f8c6fa93d",
   "metadata": {},
   "source": [
    "|                                    | \n",
    "|:--:                                |\n",
    "| [(Retour au sommaire)](#summaryUp-3-A) |"
   ]
  },
  {
   "cell_type": "markdown",
   "id": "555edc11-ecdf-49c5-8a20-3861bad57bf3",
   "metadata": {},
   "source": [
    "###### <a name=\"anchor03_C1-43-09\" /><b>Fonction</b> : get_random_numberOfReferences()"
   ]
  },
  {
   "cell_type": "code",
   "execution_count": 9,
   "id": "db920449-7c4c-4e85-ac85-85ff9b78b3c9",
   "metadata": {},
   "outputs": [],
   "source": [
    "import random\n",
    "\n",
    "def get_random_numberOfReferences(min_value=150, max_value=150000, step=200):\n",
    "    \"\"\"\n",
    "    Cette fonction génère un nombre entier aléatoire entre min_value et max_value, avec un pas de step.\n",
    "    \n",
    "    Args:\n",
    "    min_value (int): La valeur minimale du nombre à générer. Par défaut, elle est fixée à 150.\n",
    "    max_value (int): La valeur maximale du nombre à générer. Par défaut, elle est fixée à 150000.\n",
    "    step (int): Le pas de variabilité. Par défaut, il est fixé à 200.\n",
    "\n",
    "    Returns:\n",
    "    int: Le nombre de références généré aléatoirement.\n",
    "    \"\"\"\n",
    "    # Calculer le nombre de pas entre min_value et max_value\n",
    "    num_steps = (max_value - min_value) // step\n",
    "    \n",
    "    # Générer un nombre aléatoire de pas\n",
    "    random_steps = random.randint(0, num_steps)\n",
    "    \n",
    "    # Calculer le nombre de références\n",
    "    number_of_references = min_value + random_steps * step\n",
    "    \n",
    "    return number_of_references"
   ]
  },
  {
   "cell_type": "markdown",
   "id": "a7affd08-0bfa-4df4-8a80-eaa3ab555ae6",
   "metadata": {},
   "source": [
    "|                                    | \n",
    "|:--:                                |\n",
    "| [(Retour au sommaire)](#summaryUp-3-A) |"
   ]
  },
  {
   "cell_type": "markdown",
   "id": "cef7f817-2412-48a8-9e80-5f55f2252868",
   "metadata": {},
   "source": [
    "###### <a name=\"anchor03_C1-43-10\" /><b>Fonction</b> : get_random_materials()"
   ]
  },
  {
   "cell_type": "code",
   "execution_count": 10,
   "id": "67f19384-c78b-4862-b1d1-e8f1cbf734e6",
   "metadata": {},
   "outputs": [],
   "source": [
    "import random\n",
    "\n",
    "def get_random_materials(material_ids):\n",
    "    # S'assurer qu'il y a trois matériaux\n",
    "    assert len(material_ids) == 3, \"La liste des identifiants de matériaux doit contenir exactement trois éléments.\"\n",
    "    \n",
    "    # Mélangez la liste des identifiants de matériaux\n",
    "    # random.shuffle(material_ids)\n",
    "    \n",
    "    # Générez un pourcentage aléatoire pour le premier matériau entre 50% et 100%\n",
    "    first_share = round(random.uniform(0.5, 1.0), 2)\n",
    "    \n",
    "    # Générez un pourcentage aléatoire pour le deuxième matériau entre 0% et (1 - first_share)\n",
    "    second_share = round(random.uniform(0.0, 1.0 - first_share), 2)\n",
    "    \n",
    "    # Le troisième pourcentage est déterminé par les deux autres\n",
    "    third_share = round(1.0 - first_share - second_share, 2)\n",
    "    \n",
    "    # Retournez la liste des matériaux\n",
    "    return [\n",
    "        {'id': material_ids[0], 'share': first_share},\n",
    "        {'id': material_ids[1], 'share': second_share},\n",
    "        {'id': material_ids[2], 'share': third_share}\n",
    "    ]"
   ]
  },
  {
   "cell_type": "markdown",
   "id": "2395ced6-2b62-4936-b158-7e6c989bef8e",
   "metadata": {},
   "source": [
    "|                                    | \n",
    "|:--:                                |\n",
    "| [(Retour au sommaire)](#summaryUp-3-A) |"
   ]
  },
  {
   "cell_type": "markdown",
   "id": "701c807c-9484-4853-830e-c51d1be48ae4",
   "metadata": {},
   "source": [
    "###### <a name=\"anchor03_C1-43-11\" /><b>Fonction</b> : choose_random_materials_jupe()"
   ]
  },
  {
   "cell_type": "code",
   "execution_count": 11,
   "id": "0d0b332b-4abe-439e-959d-0aa212afb8ac",
   "metadata": {},
   "outputs": [],
   "source": [
    "import random\n",
    "\n",
    "def choose_random_materials_jupe():\n",
    "    # Combinaisons de listes de matériaux pour une jupe\n",
    "    materials_lists = [\n",
    "        ['ei-coton', 'ei-pet', 'ei-lin'],\n",
    "        ['ei-coton', 'ei-pet', 'ei-viscose'],\n",
    "        ['ei-coton', 'ei-lin', 'ei-viscose'],\n",
    "        ['ei-pet', 'ei-lin', 'ei-viscose'],\n",
    "        ['ei-coton', 'ei-chanvre', 'ei-viscose'],\n",
    "        ['ei-pet', 'ei-chanvre', 'ei-viscose'],\n",
    "        ['ei-lin', 'ei-chanvre', 'ei-viscose']\n",
    "    ]\n",
    "    \n",
    "    # Choisissez une liste de matériaux aléatoirement\n",
    "    chosen_materials = random.choice(materials_lists)\n",
    "    \n",
    "    return chosen_materials"
   ]
  },
  {
   "cell_type": "markdown",
   "id": "530a9946-424d-4d0a-9af3-6c448d0c5bf1",
   "metadata": {},
   "source": [
    "|                                    | \n",
    "|:--:                                |\n",
    "| [(Retour au sommaire)](#summaryUp-3-A) |"
   ]
  },
  {
   "cell_type": "markdown",
   "id": "476db2ca-d1d6-4f3f-bc22-73f8026268ad",
   "metadata": {},
   "source": [
    "###### <a name=\"anchor03_C1-43-12\" /><b>Fonction</b> : get_random_data_jupe()"
   ]
  },
  {
   "cell_type": "code",
   "execution_count": 12,
   "id": "85fd15f4-39e6-4ce9-8558-f6107c987eab",
   "metadata": {},
   "outputs": [],
   "source": [
    "import random\n",
    "\n",
    "def get_random_data_jupe():\n",
    "    # Composition aléatoire des paramètres du Tshirt\n",
    "    mass = get_random_mass(0.3, 0.4, 0.03)\n",
    "\n",
    "    # Liste des identifiants de matériaux\n",
    "    material_ids = choose_random_materials_jupe()\n",
    "    materials = get_random_materials(material_ids)\n",
    "    # autres paramètres\n",
    "    product = 'jupe'\n",
    "    countrySpinning = get_random_country()\n",
    "    countryFabric = get_random_country()\n",
    "    countryDyeing = countryFabric # get_random_country()\n",
    "    countryMaking = countryFabric # get_random_country()\n",
    "    airTransportRatio = get_random_airTransportRatio()\n",
    "    fabricProcess = get_random_fabricProcess()\n",
    "    business = get_random_business()\n",
    "    marketingDuration = get_random_marketingDuration()\n",
    "    numberOfReferences = get_random_numberOfReferences()\n",
    "    price = get_random_price_jupe(8, 99)\n",
    "    traceability = get_random_traceability()\n",
    "    \n",
    "    # Générer un résumé du nom du T-Shirt sur la base des valeurs aléatoires\n",
    "    nomJupe = 'Jupe (' + str(int(mass*1000)) + 'g) - C: ' + countryMaking + ' - ATR: ' \\\n",
    "                        + str(int(airTransportRatio*100)) + '%' + ' - ' + str(price) + '€.'\n",
    "    \n",
    "    # Paramètres d'entrée de l'API EcoBalyze\n",
    "    random_data = {\n",
    "            'mass': mass,\n",
    "        \n",
    "            # Liste des matières composant le produit (voir : textile/materials).\n",
    "            # Le format de chaque entrée est composé de l'identifiant de la matière \n",
    "            # et de la part du produit qu'elle représente, optionnellement du procédé \n",
    "            # de filature ou filage pour la matière (ConventionalSpinning, UnconventionalSpinning, \n",
    "            # SyntheticSpinning), et optionnellement du code du pays d'origine de la matière.\n",
    "            'materials': materials,\n",
    "                        \n",
    "            # Identifiant du produit (voir : textile/products)\n",
    "            'product': product,\n",
    "    \n",
    "            # Code pays pour l'étape de Filature (voir: textile/countries) \n",
    "            # Si non spécifié, le pays de filature pris en considération est \n",
    "            # celui de production de la matière la plus représentée dans le mix.\n",
    "            'countrySpinning': countrySpinning,\n",
    "        \n",
    "            # Code pays pour l'étape de Tissage/Tricotage (voir : textile/countries) \n",
    "            'countryFabric': countryFabric,\n",
    "    \n",
    "            # Code pays pour l'étape de Teinture (voir : textile/countries)\n",
    "            'countryDyeing': countryDyeing,\n",
    "    \n",
    "            # Code pays pour l'étape de Confection (voir : textile/countries)\n",
    "            'countryMaking': countryMaking,\n",
    "    \n",
    "            # Part de transport aérien entre l'étape de Confection et l'étape de Distribution, entre 0 et 1 \n",
    "            'airTransportRatio': airTransportRatio,\n",
    "    \n",
    "            # Le processus utilisé pour tisser ou tricoter le tissu, parmi :\n",
    "            # knitting-mix ┃ knitting-fully-fashioned ┃ knitting-integral \n",
    "            # ┃ knitting-circular ┃ knitting-straight ┃ weaving\n",
    "            'fabricProcess': fabricProcess,\n",
    "    \n",
    "            # Type d'entreprise et d'offre de services, parmi :\n",
    "            # small-business ┃ large-business-with-services ┃ large-business-without-services\n",
    "            'business' : business,\n",
    "    \n",
    "            # Durée de commercialisation, en jours. Min 1 ┃ Max 999\n",
    "            'marketingDuration' : marketingDuration,\n",
    "    \n",
    "            # Nombre de références au catalogue de la marque. Min 1 ┃ Max 999999 \n",
    "            'numberOfReferences' : numberOfReferences,\n",
    "    \n",
    "            # Prix du produit, en Euros (€). Min 1 ┃ Max 1000\n",
    "            'price' : price,\n",
    "    \n",
    "            # Traçabilité renforcée. true ┃ false\n",
    "            'traceability' : traceability\n",
    "           }\n",
    "    \n",
    "    return random_data, nomJupe, mass, countrySpinning, countryFabric, countryDyeing, countryMaking, fabricProcess, \\\n",
    "           business, marketingDuration, numberOfReferences, traceability"
   ]
  },
  {
   "cell_type": "markdown",
   "id": "436466cc-00b6-4fda-b16c-f01df0c62934",
   "metadata": {},
   "source": [
    "|                                    | \n",
    "|:--:                                |\n",
    "| [(Retour au sommaire)](#summaryUp-3-A) |"
   ]
  },
  {
   "cell_type": "markdown",
   "id": "e84aebfa-c497-45a5-89ba-c16322069d3d",
   "metadata": {},
   "source": [
    "###### <a name=\"anchor03_C1-43-13\" /><u>Exemple</u>: Génération d'une Jupe avec des données aléatoires"
   ]
  },
  {
   "cell_type": "code",
   "execution_count": 14,
   "id": "1c1c3e21-df7f-45e9-9a42-9559809860f9",
   "metadata": {},
   "outputs": [
    {
     "name": "stdout",
     "output_type": "stream",
     "text": [
      "Jupe / Robe : 0,300kg, matière : 82% Coton provenance  par défaut (Asie - Pacifique), 8% Lin provenance  par défaut (Europe), 10% Viscose provenance  par défaut (Asie - Pacifique), filature : Maroc, Tricotage Fully fashioned / Seamless : Chine, ennoblissement : Chine, impression : non, confection : Chine, distribution : France, utilisation : France, fin de vie : France\n",
      "\n",
      "Nbre de ligne(s) du tableau résultat : 1\n",
      "\n"
     ]
    },
    {
     "data": {
      "text/html": [
       "<div>\n",
       "<style scoped>\n",
       "    .dataframe tbody tr th:only-of-type {\n",
       "        vertical-align: middle;\n",
       "    }\n",
       "\n",
       "    .dataframe tbody tr th {\n",
       "        vertical-align: top;\n",
       "    }\n",
       "\n",
       "    .dataframe thead th {\n",
       "        text-align: right;\n",
       "    }\n",
       "</style>\n",
       "<table border=\"1\" class=\"dataframe\">\n",
       "  <thead>\n",
       "    <tr style=\"text-align: right;\">\n",
       "      <th></th>\n",
       "      <th>ecs</th>\n",
       "      <th>pef</th>\n",
       "      <th>mass</th>\n",
       "      <th>product</th>\n",
       "      <th>countrySpinning</th>\n",
       "      <th>countryFabric</th>\n",
       "      <th>countryDyeing</th>\n",
       "      <th>countryMaking</th>\n",
       "      <th>airTransportRatio</th>\n",
       "      <th>fabricProcess</th>\n",
       "      <th>business</th>\n",
       "      <th>marketingDuration</th>\n",
       "      <th>numberOfReferences</th>\n",
       "      <th>price</th>\n",
       "      <th>traceability</th>\n",
       "      <th>Description</th>\n",
       "      <th>materials</th>\n",
       "      <th>material_1</th>\n",
       "      <th>material_2</th>\n",
       "      <th>material_3</th>\n",
       "    </tr>\n",
       "  </thead>\n",
       "  <tbody>\n",
       "    <tr>\n",
       "      <th>Jupe (300g) - C: CN - ATR: 0% - 96€.</th>\n",
       "      <td>1786</td>\n",
       "      <td>1089</td>\n",
       "      <td>0.3</td>\n",
       "      <td>jupe</td>\n",
       "      <td>MA</td>\n",
       "      <td>CN</td>\n",
       "      <td>CN</td>\n",
       "      <td>CN</td>\n",
       "      <td>0.0</td>\n",
       "      <td>knitting-fully-fashioned</td>\n",
       "      <td>large-business-without-services</td>\n",
       "      <td>184</td>\n",
       "      <td>3750</td>\n",
       "      <td>96</td>\n",
       "      <td>False</td>\n",
       "      <td>Jupe / Robe : 0,300kg, matière : 82% Coton pro...</td>\n",
       "      <td>[{'id': 'ei-coton', 'share': 0.82}, {'id': 'ei...</td>\n",
       "      <td>{'id': 'ei-coton', 'share': 0.82}</td>\n",
       "      <td>{'id': 'ei-lin', 'share': 0.08}</td>\n",
       "      <td>{'id': 'ei-viscose', 'share': 0.1}</td>\n",
       "    </tr>\n",
       "  </tbody>\n",
       "</table>\n",
       "</div>"
      ],
      "text/plain": [
       "                                       ecs   pef  mass product  \\\n",
       "Jupe (300g) - C: CN - ATR: 0% - 96€.  1786  1089   0.3    jupe   \n",
       "\n",
       "                                     countrySpinning countryFabric  \\\n",
       "Jupe (300g) - C: CN - ATR: 0% - 96€.              MA            CN   \n",
       "\n",
       "                                     countryDyeing countryMaking  \\\n",
       "Jupe (300g) - C: CN - ATR: 0% - 96€.            CN            CN   \n",
       "\n",
       "                                      airTransportRatio  \\\n",
       "Jupe (300g) - C: CN - ATR: 0% - 96€.                0.0   \n",
       "\n",
       "                                                 fabricProcess  \\\n",
       "Jupe (300g) - C: CN - ATR: 0% - 96€.  knitting-fully-fashioned   \n",
       "\n",
       "                                                             business  \\\n",
       "Jupe (300g) - C: CN - ATR: 0% - 96€.  large-business-without-services   \n",
       "\n",
       "                                      marketingDuration  numberOfReferences  \\\n",
       "Jupe (300g) - C: CN - ATR: 0% - 96€.                184                3750   \n",
       "\n",
       "                                      price  traceability  \\\n",
       "Jupe (300g) - C: CN - ATR: 0% - 96€.     96         False   \n",
       "\n",
       "                                                                            Description  \\\n",
       "Jupe (300g) - C: CN - ATR: 0% - 96€.  Jupe / Robe : 0,300kg, matière : 82% Coton pro...   \n",
       "\n",
       "                                                                              materials  \\\n",
       "Jupe (300g) - C: CN - ATR: 0% - 96€.  [{'id': 'ei-coton', 'share': 0.82}, {'id': 'ei...   \n",
       "\n",
       "                                                             material_1  \\\n",
       "Jupe (300g) - C: CN - ATR: 0% - 96€.  {'id': 'ei-coton', 'share': 0.82}   \n",
       "\n",
       "                                                           material_2  \\\n",
       "Jupe (300g) - C: CN - ATR: 0% - 96€.  {'id': 'ei-lin', 'share': 0.08}   \n",
       "\n",
       "                                                              material_3  \n",
       "Jupe (300g) - C: CN - ATR: 0% - 96€.  {'id': 'ei-viscose', 'share': 0.1}  "
      ]
     },
     "execution_count": 14,
     "metadata": {},
     "output_type": "execute_result"
    }
   ],
   "source": [
    "import requests\n",
    "\n",
    "import pandas as pd\n",
    "import numpy as np\n",
    "\n",
    "link = 'https://ecobalyse.beta.gouv.fr/api/'\n",
    "\n",
    "# Composition aléatoire des paramètres du Tshirt\n",
    "data, nomTshirt, mass, countrySpinning, countryFabric, countryDyeing, countryMaking, fabricProcess, \\\n",
    "                 business, marketingDuration, numberOfReferences, traceability = get_random_data_jupe()\n",
    "\n",
    "# Scrapper l'API avec le dictionnaire\n",
    "result2 = requests.post(link + 'textile/simulator', json=data)\n",
    "    \n",
    "# Vérifiez le statut de la requête\n",
    "if result2.status_code == 200:\n",
    "    # Convertir la réponse en JSON\n",
    "    response_json = result2.json()\n",
    "    \n",
    "    # Extraire la liste des impacts environnementaux dans un DataFrame\n",
    "    df_impacts = pd.DataFrame(response_json['impacts'].items(), columns=['Nom', nomTshirt])\n",
    "    print(response_json['description'] + '\\n')\n",
    "    \n",
    "else:\n",
    "    print('La requête a échoué avec le code de statut :', result2.status_code)\n",
    "\n",
    "# Transposition du DataFrame\n",
    "df_transpose = df_impacts.transpose()\n",
    "\n",
    "df_transpose.columns = df_transpose.iloc[0]  # Faire de la première ligne les libellés des colonnes\n",
    "df_transpose = df_transpose[1:]  # Supprimer la première ligne\n",
    "\n",
    "# Arrondir les valeurs des colonnes 'ecs' et 'pef' à l'entier supérieur\n",
    "df_transpose['ecs'] = np.ceil(df_transpose['ecs'])\n",
    "df_transpose['pef'] = np.ceil(df_transpose['pef'])\n",
    "\n",
    "# Supprimer les colonnes remplies de 0.0 : acd, cch, etf, etf-c, ...\n",
    "colonnes_a_supprimer = ['acd', 'cch', 'etf', 'etf-c', 'fru', 'fwe', 'htc', 'htc-c', 'htn', 'htn-c', \\\n",
    "                        'ior', 'ldu', 'mru', 'ozd', 'pco', 'pma', 'swe', 'tre', 'wtu']\n",
    "df_sans_colonnes = df_transpose.drop(colonnes_a_supprimer, axis=1)\n",
    "\n",
    "# Ajouter les colonnes de composition du textile\n",
    "df_sans_colonnes['mass'] = data['mass']\n",
    "df_sans_colonnes['product'] = data['product']\n",
    "df_sans_colonnes['countrySpinning'] = data['countrySpinning']\n",
    "df_sans_colonnes['countryFabric'] = data['countryFabric']\n",
    "df_sans_colonnes['countryDyeing'] = data['countryDyeing']\n",
    "df_sans_colonnes['countryMaking'] = data['countryMaking']\n",
    "df_sans_colonnes['airTransportRatio'] = data['airTransportRatio']\n",
    "df_sans_colonnes['fabricProcess'] = data['fabricProcess']\n",
    "df_sans_colonnes['business'] = data['business']\n",
    "df_sans_colonnes['marketingDuration'] = data['marketingDuration']\n",
    "df_sans_colonnes['numberOfReferences'] = data['numberOfReferences']\n",
    "df_sans_colonnes['price'] = data['price']\n",
    "df_sans_colonnes['traceability'] = data['traceability']\n",
    "df_sans_colonnes['Description'] = response_json['description']\n",
    "\n",
    "# diviser en plusieurs colonnes la liste de dictionnaire 'materials'\n",
    "df_sans_colonnes['materials'] = df_sans_colonnes.apply(lambda row: data['materials'], axis=1)\n",
    "\n",
    "# 1- Créer une nouvelle DataFrame à partir de la colonne 'materials'\n",
    "df_materials = df_sans_colonnes['materials'].apply(pd.Series)\n",
    "\n",
    "# 2- Renommer les colonnes\n",
    "df_materials.columns = ['material_{}'.format(i+1) for i in range(df_materials.shape[1])]\n",
    "\n",
    "# 3- Concaténer le DataFrame original avec le nouveau DataFrame de materials\n",
    "df_final = pd.concat([df_sans_colonnes, df_materials], axis=1)\n",
    "\n",
    "# Affichage du DataFrame\n",
    "print('Nbre de ligne(s) du tableau résultat : ' + str(df_transpose.shape[0]) + '\\n')\n",
    "df_final\n"
   ]
  },
  {
   "cell_type": "markdown",
   "id": "eb022df8-06ac-436f-81ec-028713fbc1ef",
   "metadata": {},
   "source": [
    "|                                    | \n",
    "|:--:                                |\n",
    "| [(Retour au sommaire)](#summaryUp-3-A) |"
   ]
  },
  {
   "cell_type": "markdown",
   "id": "23315a8c-c769-40b7-a72b-3b25cc1e45d0",
   "metadata": {},
   "source": [
    "###### <a name=\"anchor03_C1-44-01\" /><b>Fonction</b> : create_random_jupes(n)"
   ]
  },
  {
   "cell_type": "code",
   "execution_count": 17,
   "id": "a33b8653-cfc8-43f4-8192-08b2803366b0",
   "metadata": {},
   "outputs": [],
   "source": [
    "import pandas as pd\n",
    "import numpy as np\n",
    "\n",
    "import requests\n",
    "from requests.exceptions import RequestException\n",
    "\n",
    "def create_random_jupes(n=10):\n",
    "    # url de l'api EcoBalyze\n",
    "    link = 'https://ecobalyse.beta.gouv.fr/api/'\n",
    "\n",
    "    # Initialiser un DataFrame vide\n",
    "    df_total = pd.DataFrame()\n",
    "\n",
    "    for i in range(n):\n",
    "        try: \n",
    "            # Bloc de code à essayer d'exécuter\n",
    "            # Composition aléatoire des paramètres du Tshirt\n",
    "            data, nomJupe, mass, countrySpinning, countryFabric, countryDyeing, countryMaking, fabricProcess, \\\n",
    "                             business, marketingDuration, numberOfReferences, traceability = get_random_data_jupe()\n",
    "\n",
    "            # Scrapper l'API avec le dictionnaire\n",
    "            result2 = requests.post(link + 'textile/simulator', json=data)\n",
    "\n",
    "            # Vérifiez le statut de la requête\n",
    "            if result2.status_code == 200:\n",
    "                # Convertir la réponse en JSON\n",
    "                response_json = result2.json()\n",
    "                \n",
    "                # Extraire la liste des impacts environnementaux dans un DataFrame\n",
    "                df_impacts = pd.DataFrame(response_json['impacts'].items(), columns=['nom', str(i+1) + ' - ' + nomJupe])\n",
    "                \n",
    "                # Transposition du DataFrame\n",
    "                df_transpose = df_impacts.transpose()\n",
    "                df_transpose.columns = df_transpose.iloc[0]  # Faire de la première ligne les libellés des colonnes\n",
    "                df_transpose = df_transpose[1:]  # Supprimer la première ligne\n",
    "\n",
    "                # Arrondir les valeurs des colonnes 'ecs' et 'pef' à l'entier supérieur\n",
    "                df_transpose['ecs'] = np.ceil(df_transpose['ecs'])\n",
    "                df_transpose['pef'] = np.ceil(df_transpose['pef'])\n",
    "                \n",
    "                # Supprimer les colonnes remplies de 0.0 : acd, cch, etf, etf-c, ...\n",
    "                colonnes_a_supprimer = ['acd', 'cch', 'etf', 'etf-c', 'fru', 'fwe', 'htc', 'htc-c', 'htn', 'htn-c', \\\n",
    "                                        'ior', 'ldu', 'mru', 'ozd', 'pco', 'pma', 'swe', 'tre', 'wtu']\n",
    "                df_sans_colonnes = df_transpose.drop(colonnes_a_supprimer, axis=1)\n",
    "                \n",
    "                # Ajouter les colonnes de composition du textile\n",
    "                df_sans_colonnes['mass'] = data['mass']\n",
    "                df_sans_colonnes['product'] = data['product']\n",
    "                df_sans_colonnes['countrySpinning'] = data['countrySpinning']\n",
    "                df_sans_colonnes['countryFabric'] = data['countryFabric']\n",
    "                df_sans_colonnes['countryDyeing'] = data['countryDyeing']\n",
    "                df_sans_colonnes['countryMaking'] = data['countryMaking']\n",
    "                df_sans_colonnes['airTransportRatio'] = data['airTransportRatio']\n",
    "                df_sans_colonnes['fabricProcess'] = data['fabricProcess']\n",
    "                df_sans_colonnes['business'] = data['business']\n",
    "                df_sans_colonnes['marketingDuration'] = data['marketingDuration']\n",
    "                df_sans_colonnes['numberOfReferences'] = data['numberOfReferences']\n",
    "                df_sans_colonnes['price'] = data['price']\n",
    "                df_sans_colonnes['traceability'] = data['traceability']\n",
    "                df_sans_colonnes['description'] = response_json['description']\n",
    "                \n",
    "                # diviser en plusieurs colonnes la liste de dictionnaire 'materials'\n",
    "                df_sans_colonnes['materials'] = df_sans_colonnes.apply(lambda row: data['materials'], axis=1)\n",
    "\n",
    "                # 1- Créer une nouvelle DataFrame à partir de la colonne 'materials'\n",
    "                df_materials = df_sans_colonnes['materials'].apply(pd.Series)\n",
    "\n",
    "                # 2- Renommer les colonnes\n",
    "                df_materials.columns = ['material_{}'.format(i+1) for i in range(df_materials.shape[1])]\n",
    "\n",
    "                # 3- Concaténer le DataFrame original avec le nouveau DataFrame de materials\n",
    "                df_final = pd.concat([df_sans_colonnes, df_materials], axis=1)\n",
    "                \n",
    "                # Ajouter le DataFrame transposé final au DataFrame total\n",
    "                df_total = pd.concat([df_total, df_final])\n",
    "\n",
    "            else:\n",
    "                print('La requête a échoué avec le code de statut :', result2.status_code)\n",
    "\n",
    "        except Exception as e:\n",
    "            # Bloc de code à exécuter en cas d'erreur\n",
    "            print(\"Une erreur s'est produite :\", e)\n",
    "\n",
    "        else:\n",
    "            # Bloc de code à exécuter si aucune erreur ne s'est produite\n",
    "            # print('T-shirt', i+1, 'traité avec succès.')\n",
    "            pass\n",
    "\n",
    "    # Transformer le DataFrame en fichier JSON\n",
    "    df_total.to_json('./1-RECOLTE-DATA/API/f_api_random' + str(i+1) + '_' + data['product'] + '_data_out.json', orient='split', force_ascii=False)\n",
    "\n",
    "    # Sauvegarder le DataFrame en fichier CSV\n",
    "    df_total.to_csv('./1-RECOLTE-DATA/API/f_api_random' + str(i+1) + '_' + data['product'] + '_data_out.csv', encoding='utf-8', index=True)\n",
    "    \n",
    "    # retourne le DataFrame\n",
    "    return df_total\n"
   ]
  },
  {
   "cell_type": "markdown",
   "id": "4d8ccc8c-549e-450a-af11-cf5f007edfaa",
   "metadata": {},
   "source": [
    "|                                    | \n",
    "|:--:                                |\n",
    "| [(Retour au sommaire)](#summaryUp-3-A) |"
   ]
  },
  {
   "cell_type": "markdown",
   "id": "2e2de151-9619-4e3c-a8c3-a86824a760f4",
   "metadata": {},
   "source": [
    "##### <a name=\"anchor03_C1-44-02\" /><u>Exemple</u> : Exemple: Génération aléatoire d'une liste de Jupes et sauvegarde en Json / CSV"
   ]
  },
  {
   "cell_type": "code",
   "execution_count": 24,
   "id": "088ce1b8-d486-42d7-a990-33eb851985d8",
   "metadata": {},
   "outputs": [
    {
     "name": "stdout",
     "output_type": "stream",
     "text": [
      "Liste d'impacts de Jupes générées aléatoirement (seules les 10 dernières lignes du résultat sont affichées).\n",
      "\n",
      "Nbre de ligne(s) du tableau résultat : 20000\n",
      "\n",
      "Réalisé en 2221.937 secondes\n",
      "\n"
     ]
    },
    {
     "data": {
      "text/html": [
       "<div>\n",
       "<style scoped>\n",
       "    .dataframe tbody tr th:only-of-type {\n",
       "        vertical-align: middle;\n",
       "    }\n",
       "\n",
       "    .dataframe tbody tr th {\n",
       "        vertical-align: top;\n",
       "    }\n",
       "\n",
       "    .dataframe thead th {\n",
       "        text-align: right;\n",
       "    }\n",
       "</style>\n",
       "<table border=\"1\" class=\"dataframe\">\n",
       "  <thead>\n",
       "    <tr style=\"text-align: right;\">\n",
       "      <th></th>\n",
       "      <th>ecs</th>\n",
       "      <th>pef</th>\n",
       "      <th>mass</th>\n",
       "      <th>product</th>\n",
       "      <th>countrySpinning</th>\n",
       "      <th>countryFabric</th>\n",
       "      <th>countryDyeing</th>\n",
       "      <th>countryMaking</th>\n",
       "      <th>airTransportRatio</th>\n",
       "      <th>fabricProcess</th>\n",
       "      <th>business</th>\n",
       "      <th>marketingDuration</th>\n",
       "      <th>numberOfReferences</th>\n",
       "      <th>price</th>\n",
       "      <th>traceability</th>\n",
       "      <th>description</th>\n",
       "      <th>materials</th>\n",
       "      <th>material_1</th>\n",
       "      <th>material_2</th>\n",
       "      <th>material_3</th>\n",
       "    </tr>\n",
       "  </thead>\n",
       "  <tbody>\n",
       "    <tr>\n",
       "      <th>19991 - Jupe (359g) - C: ROC - ATR: 100% - 12€.</th>\n",
       "      <td>3376</td>\n",
       "      <td>1979</td>\n",
       "      <td>0.36</td>\n",
       "      <td>jupe</td>\n",
       "      <td>KH</td>\n",
       "      <td>ROC</td>\n",
       "      <td>ROC</td>\n",
       "      <td>ROC</td>\n",
       "      <td>1.00</td>\n",
       "      <td>knitting-circular</td>\n",
       "      <td>large-business-with-services</td>\n",
       "      <td>104</td>\n",
       "      <td>96150</td>\n",
       "      <td>12</td>\n",
       "      <td>True</td>\n",
       "      <td>Jupe / Robe : 0,360kg, matière : 77% Coton pro...</td>\n",
       "      <td>[{'id': 'ei-coton', 'share': 0.77}, {'id': 'ei...</td>\n",
       "      <td>{'id': 'ei-coton', 'share': 0.77}</td>\n",
       "      <td>{'id': 'ei-lin', 'share': 0.1}</td>\n",
       "      <td>{'id': 'ei-viscose', 'share': 0.13}</td>\n",
       "    </tr>\n",
       "    <tr>\n",
       "      <th>19992 - Jupe (300g) - C: CN - ATR: 100% - 88€.</th>\n",
       "      <td>2153</td>\n",
       "      <td>1341</td>\n",
       "      <td>0.30</td>\n",
       "      <td>jupe</td>\n",
       "      <td>IN</td>\n",
       "      <td>CN</td>\n",
       "      <td>CN</td>\n",
       "      <td>CN</td>\n",
       "      <td>1.00</td>\n",
       "      <td>knitting-fully-fashioned</td>\n",
       "      <td>small-business</td>\n",
       "      <td>45</td>\n",
       "      <td>89150</td>\n",
       "      <td>88</td>\n",
       "      <td>True</td>\n",
       "      <td>Jupe / Robe : 0,300kg, matière : 64% Coton pro...</td>\n",
       "      <td>[{'id': 'ei-coton', 'share': 0.64}, {'id': 'ei...</td>\n",
       "      <td>{'id': 'ei-coton', 'share': 0.64}</td>\n",
       "      <td>{'id': 'ei-pet', 'share': 0.13}</td>\n",
       "      <td>{'id': 'ei-lin', 'share': 0.23}</td>\n",
       "    </tr>\n",
       "    <tr>\n",
       "      <th>19993 - Jupe (389g) - C: KH - ATR: 0% - 99€.</th>\n",
       "      <td>1731</td>\n",
       "      <td>1168</td>\n",
       "      <td>0.39</td>\n",
       "      <td>jupe</td>\n",
       "      <td>KH</td>\n",
       "      <td>KH</td>\n",
       "      <td>KH</td>\n",
       "      <td>KH</td>\n",
       "      <td>0.00</td>\n",
       "      <td>weaving</td>\n",
       "      <td>small-business</td>\n",
       "      <td>272</td>\n",
       "      <td>137750</td>\n",
       "      <td>99</td>\n",
       "      <td>False</td>\n",
       "      <td>Jupe / Robe : 0,390kg, matière : 73% Polyester...</td>\n",
       "      <td>[{'id': 'ei-pet', 'share': 0.73}, {'id': 'ei-c...</td>\n",
       "      <td>{'id': 'ei-pet', 'share': 0.73}</td>\n",
       "      <td>{'id': 'ei-chanvre', 'share': 0.17}</td>\n",
       "      <td>{'id': 'ei-viscose', 'share': 0.1}</td>\n",
       "    </tr>\n",
       "    <tr>\n",
       "      <th>19994 - Jupe (329g) - C: BD - ATR: 0% - 62€.</th>\n",
       "      <td>2210</td>\n",
       "      <td>1195</td>\n",
       "      <td>0.33</td>\n",
       "      <td>jupe</td>\n",
       "      <td>RME</td>\n",
       "      <td>BD</td>\n",
       "      <td>BD</td>\n",
       "      <td>BD</td>\n",
       "      <td>0.00</td>\n",
       "      <td>knitting-fully-fashioned</td>\n",
       "      <td>large-business-with-services</td>\n",
       "      <td>115</td>\n",
       "      <td>12150</td>\n",
       "      <td>62</td>\n",
       "      <td>False</td>\n",
       "      <td>Jupe / Robe : 0,330kg, matière : 68% Coton pro...</td>\n",
       "      <td>[{'id': 'ei-coton', 'share': 0.68}, {'id': 'ei...</td>\n",
       "      <td>{'id': 'ei-coton', 'share': 0.68}</td>\n",
       "      <td>{'id': 'ei-pet', 'share': 0.03}</td>\n",
       "      <td>{'id': 'ei-lin', 'share': 0.29}</td>\n",
       "    </tr>\n",
       "    <tr>\n",
       "      <th>19995 - Jupe (329g) - C: RAS - ATR: 100% - 84€.</th>\n",
       "      <td>2806</td>\n",
       "      <td>1554</td>\n",
       "      <td>0.33</td>\n",
       "      <td>jupe</td>\n",
       "      <td>TN</td>\n",
       "      <td>RAS</td>\n",
       "      <td>RAS</td>\n",
       "      <td>RAS</td>\n",
       "      <td>1.00</td>\n",
       "      <td>knitting-circular</td>\n",
       "      <td>large-business-without-services</td>\n",
       "      <td>63</td>\n",
       "      <td>133350</td>\n",
       "      <td>84</td>\n",
       "      <td>True</td>\n",
       "      <td>Jupe / Robe : 0,330kg, matière : 81% Coton pro...</td>\n",
       "      <td>[{'id': 'ei-coton', 'share': 0.81}, {'id': 'ei...</td>\n",
       "      <td>{'id': 'ei-coton', 'share': 0.81}</td>\n",
       "      <td>{'id': 'ei-lin', 'share': 0.05}</td>\n",
       "      <td>{'id': 'ei-viscose', 'share': 0.14}</td>\n",
       "    </tr>\n",
       "    <tr>\n",
       "      <th>19996 - Jupe (329g) - C: RME - ATR: 0% - 84€.</th>\n",
       "      <td>1840</td>\n",
       "      <td>1233</td>\n",
       "      <td>0.33</td>\n",
       "      <td>jupe</td>\n",
       "      <td>PK</td>\n",
       "      <td>RME</td>\n",
       "      <td>RME</td>\n",
       "      <td>RME</td>\n",
       "      <td>0.00</td>\n",
       "      <td>weaving</td>\n",
       "      <td>small-business</td>\n",
       "      <td>32</td>\n",
       "      <td>33550</td>\n",
       "      <td>84</td>\n",
       "      <td>False</td>\n",
       "      <td>Jupe / Robe : 0,330kg, matière : 65% Polyester...</td>\n",
       "      <td>[{'id': 'ei-pet', 'share': 0.65}, {'id': 'ei-l...</td>\n",
       "      <td>{'id': 'ei-pet', 'share': 0.65}</td>\n",
       "      <td>{'id': 'ei-lin', 'share': 0.17}</td>\n",
       "      <td>{'id': 'ei-viscose', 'share': 0.18}</td>\n",
       "    </tr>\n",
       "    <tr>\n",
       "      <th>19997 - Jupe (359g) - C: BD - ATR: 33% - 38€.</th>\n",
       "      <td>2299</td>\n",
       "      <td>1222</td>\n",
       "      <td>0.36</td>\n",
       "      <td>jupe</td>\n",
       "      <td>TN</td>\n",
       "      <td>BD</td>\n",
       "      <td>BD</td>\n",
       "      <td>BD</td>\n",
       "      <td>0.33</td>\n",
       "      <td>knitting-circular</td>\n",
       "      <td>small-business</td>\n",
       "      <td>99</td>\n",
       "      <td>48750</td>\n",
       "      <td>38</td>\n",
       "      <td>True</td>\n",
       "      <td>Jupe / Robe : 0,360kg, matière : 65% Coton pro...</td>\n",
       "      <td>[{'id': 'ei-coton', 'share': 0.65}, {'id': 'ei...</td>\n",
       "      <td>{'id': 'ei-coton', 'share': 0.65}</td>\n",
       "      <td>{'id': 'ei-chanvre', 'share': 0.23}</td>\n",
       "      <td>{'id': 'ei-viscose', 'share': 0.12}</td>\n",
       "    </tr>\n",
       "    <tr>\n",
       "      <th>19998 - Jupe (329g) - C: VN - ATR: 0% - 74€.</th>\n",
       "      <td>1379</td>\n",
       "      <td>904</td>\n",
       "      <td>0.33</td>\n",
       "      <td>jupe</td>\n",
       "      <td>RNA</td>\n",
       "      <td>VN</td>\n",
       "      <td>VN</td>\n",
       "      <td>VN</td>\n",
       "      <td>0.00</td>\n",
       "      <td>knitting-fully-fashioned</td>\n",
       "      <td>large-business-with-services</td>\n",
       "      <td>207</td>\n",
       "      <td>69350</td>\n",
       "      <td>74</td>\n",
       "      <td>False</td>\n",
       "      <td>Jupe / Robe : 0,330kg, matière : 80% Polyester...</td>\n",
       "      <td>[{'id': 'ei-pet', 'share': 0.8}, {'id': 'ei-li...</td>\n",
       "      <td>{'id': 'ei-pet', 'share': 0.8}</td>\n",
       "      <td>{'id': 'ei-lin', 'share': 0.05}</td>\n",
       "      <td>{'id': 'ei-viscose', 'share': 0.15}</td>\n",
       "    </tr>\n",
       "    <tr>\n",
       "      <th>19999 - Jupe (389g) - C: TR - ATR: 0% - 73€.</th>\n",
       "      <td>2012</td>\n",
       "      <td>1316</td>\n",
       "      <td>0.39</td>\n",
       "      <td>jupe</td>\n",
       "      <td>REE</td>\n",
       "      <td>TR</td>\n",
       "      <td>TR</td>\n",
       "      <td>TR</td>\n",
       "      <td>0.00</td>\n",
       "      <td>knitting-integral</td>\n",
       "      <td>small-business</td>\n",
       "      <td>78</td>\n",
       "      <td>140150</td>\n",
       "      <td>73</td>\n",
       "      <td>False</td>\n",
       "      <td>Jupe / Robe : 0,390kg, matière : 84% Polyester...</td>\n",
       "      <td>[{'id': 'ei-pet', 'share': 0.84}, {'id': 'ei-c...</td>\n",
       "      <td>{'id': 'ei-pet', 'share': 0.84}</td>\n",
       "      <td>{'id': 'ei-chanvre', 'share': 0.13}</td>\n",
       "      <td>{'id': 'ei-viscose', 'share': 0.03}</td>\n",
       "    </tr>\n",
       "    <tr>\n",
       "      <th>20000 - Jupe (300g) - C: ROC - ATR: 100% - 17€.</th>\n",
       "      <td>2602</td>\n",
       "      <td>1793</td>\n",
       "      <td>0.30</td>\n",
       "      <td>jupe</td>\n",
       "      <td>ROC</td>\n",
       "      <td>ROC</td>\n",
       "      <td>ROC</td>\n",
       "      <td>ROC</td>\n",
       "      <td>1.00</td>\n",
       "      <td>knitting-mix</td>\n",
       "      <td>large-business-with-services</td>\n",
       "      <td>31</td>\n",
       "      <td>132350</td>\n",
       "      <td>17</td>\n",
       "      <td>False</td>\n",
       "      <td>Jupe / Robe : 0,300kg, matière : 91% Lin prove...</td>\n",
       "      <td>[{'id': 'ei-lin', 'share': 0.91}, {'id': 'ei-c...</td>\n",
       "      <td>{'id': 'ei-lin', 'share': 0.91}</td>\n",
       "      <td>{'id': 'ei-chanvre', 'share': 0.08}</td>\n",
       "      <td>{'id': 'ei-viscose', 'share': 0.01}</td>\n",
       "    </tr>\n",
       "  </tbody>\n",
       "</table>\n",
       "</div>"
      ],
      "text/plain": [
       "                                                  ecs   pef  mass product  \\\n",
       "19991 - Jupe (359g) - C: ROC - ATR: 100% - 12€.  3376  1979  0.36    jupe   \n",
       "19992 - Jupe (300g) - C: CN - ATR: 100% - 88€.   2153  1341  0.30    jupe   \n",
       "19993 - Jupe (389g) - C: KH - ATR: 0% - 99€.     1731  1168  0.39    jupe   \n",
       "19994 - Jupe (329g) - C: BD - ATR: 0% - 62€.     2210  1195  0.33    jupe   \n",
       "19995 - Jupe (329g) - C: RAS - ATR: 100% - 84€.  2806  1554  0.33    jupe   \n",
       "19996 - Jupe (329g) - C: RME - ATR: 0% - 84€.    1840  1233  0.33    jupe   \n",
       "19997 - Jupe (359g) - C: BD - ATR: 33% - 38€.    2299  1222  0.36    jupe   \n",
       "19998 - Jupe (329g) - C: VN - ATR: 0% - 74€.     1379   904  0.33    jupe   \n",
       "19999 - Jupe (389g) - C: TR - ATR: 0% - 73€.     2012  1316  0.39    jupe   \n",
       "20000 - Jupe (300g) - C: ROC - ATR: 100% - 17€.  2602  1793  0.30    jupe   \n",
       "\n",
       "                                                countrySpinning countryFabric  \\\n",
       "19991 - Jupe (359g) - C: ROC - ATR: 100% - 12€.              KH           ROC   \n",
       "19992 - Jupe (300g) - C: CN - ATR: 100% - 88€.               IN            CN   \n",
       "19993 - Jupe (389g) - C: KH - ATR: 0% - 99€.                 KH            KH   \n",
       "19994 - Jupe (329g) - C: BD - ATR: 0% - 62€.                RME            BD   \n",
       "19995 - Jupe (329g) - C: RAS - ATR: 100% - 84€.              TN           RAS   \n",
       "19996 - Jupe (329g) - C: RME - ATR: 0% - 84€.                PK           RME   \n",
       "19997 - Jupe (359g) - C: BD - ATR: 33% - 38€.                TN            BD   \n",
       "19998 - Jupe (329g) - C: VN - ATR: 0% - 74€.                RNA            VN   \n",
       "19999 - Jupe (389g) - C: TR - ATR: 0% - 73€.                REE            TR   \n",
       "20000 - Jupe (300g) - C: ROC - ATR: 100% - 17€.             ROC           ROC   \n",
       "\n",
       "                                                countryDyeing countryMaking  \\\n",
       "19991 - Jupe (359g) - C: ROC - ATR: 100% - 12€.           ROC           ROC   \n",
       "19992 - Jupe (300g) - C: CN - ATR: 100% - 88€.             CN            CN   \n",
       "19993 - Jupe (389g) - C: KH - ATR: 0% - 99€.               KH            KH   \n",
       "19994 - Jupe (329g) - C: BD - ATR: 0% - 62€.               BD            BD   \n",
       "19995 - Jupe (329g) - C: RAS - ATR: 100% - 84€.           RAS           RAS   \n",
       "19996 - Jupe (329g) - C: RME - ATR: 0% - 84€.             RME           RME   \n",
       "19997 - Jupe (359g) - C: BD - ATR: 33% - 38€.              BD            BD   \n",
       "19998 - Jupe (329g) - C: VN - ATR: 0% - 74€.               VN            VN   \n",
       "19999 - Jupe (389g) - C: TR - ATR: 0% - 73€.               TR            TR   \n",
       "20000 - Jupe (300g) - C: ROC - ATR: 100% - 17€.           ROC           ROC   \n",
       "\n",
       "                                                 airTransportRatio  \\\n",
       "19991 - Jupe (359g) - C: ROC - ATR: 100% - 12€.               1.00   \n",
       "19992 - Jupe (300g) - C: CN - ATR: 100% - 88€.                1.00   \n",
       "19993 - Jupe (389g) - C: KH - ATR: 0% - 99€.                  0.00   \n",
       "19994 - Jupe (329g) - C: BD - ATR: 0% - 62€.                  0.00   \n",
       "19995 - Jupe (329g) - C: RAS - ATR: 100% - 84€.               1.00   \n",
       "19996 - Jupe (329g) - C: RME - ATR: 0% - 84€.                 0.00   \n",
       "19997 - Jupe (359g) - C: BD - ATR: 33% - 38€.                 0.33   \n",
       "19998 - Jupe (329g) - C: VN - ATR: 0% - 74€.                  0.00   \n",
       "19999 - Jupe (389g) - C: TR - ATR: 0% - 73€.                  0.00   \n",
       "20000 - Jupe (300g) - C: ROC - ATR: 100% - 17€.               1.00   \n",
       "\n",
       "                                                            fabricProcess  \\\n",
       "19991 - Jupe (359g) - C: ROC - ATR: 100% - 12€.         knitting-circular   \n",
       "19992 - Jupe (300g) - C: CN - ATR: 100% - 88€.   knitting-fully-fashioned   \n",
       "19993 - Jupe (389g) - C: KH - ATR: 0% - 99€.                      weaving   \n",
       "19994 - Jupe (329g) - C: BD - ATR: 0% - 62€.     knitting-fully-fashioned   \n",
       "19995 - Jupe (329g) - C: RAS - ATR: 100% - 84€.         knitting-circular   \n",
       "19996 - Jupe (329g) - C: RME - ATR: 0% - 84€.                     weaving   \n",
       "19997 - Jupe (359g) - C: BD - ATR: 33% - 38€.           knitting-circular   \n",
       "19998 - Jupe (329g) - C: VN - ATR: 0% - 74€.     knitting-fully-fashioned   \n",
       "19999 - Jupe (389g) - C: TR - ATR: 0% - 73€.            knitting-integral   \n",
       "20000 - Jupe (300g) - C: ROC - ATR: 100% - 17€.              knitting-mix   \n",
       "\n",
       "                                                                        business  \\\n",
       "19991 - Jupe (359g) - C: ROC - ATR: 100% - 12€.     large-business-with-services   \n",
       "19992 - Jupe (300g) - C: CN - ATR: 100% - 88€.                    small-business   \n",
       "19993 - Jupe (389g) - C: KH - ATR: 0% - 99€.                      small-business   \n",
       "19994 - Jupe (329g) - C: BD - ATR: 0% - 62€.        large-business-with-services   \n",
       "19995 - Jupe (329g) - C: RAS - ATR: 100% - 84€.  large-business-without-services   \n",
       "19996 - Jupe (329g) - C: RME - ATR: 0% - 84€.                     small-business   \n",
       "19997 - Jupe (359g) - C: BD - ATR: 33% - 38€.                     small-business   \n",
       "19998 - Jupe (329g) - C: VN - ATR: 0% - 74€.        large-business-with-services   \n",
       "19999 - Jupe (389g) - C: TR - ATR: 0% - 73€.                      small-business   \n",
       "20000 - Jupe (300g) - C: ROC - ATR: 100% - 17€.     large-business-with-services   \n",
       "\n",
       "                                                 marketingDuration  \\\n",
       "19991 - Jupe (359g) - C: ROC - ATR: 100% - 12€.                104   \n",
       "19992 - Jupe (300g) - C: CN - ATR: 100% - 88€.                  45   \n",
       "19993 - Jupe (389g) - C: KH - ATR: 0% - 99€.                   272   \n",
       "19994 - Jupe (329g) - C: BD - ATR: 0% - 62€.                   115   \n",
       "19995 - Jupe (329g) - C: RAS - ATR: 100% - 84€.                 63   \n",
       "19996 - Jupe (329g) - C: RME - ATR: 0% - 84€.                   32   \n",
       "19997 - Jupe (359g) - C: BD - ATR: 33% - 38€.                   99   \n",
       "19998 - Jupe (329g) - C: VN - ATR: 0% - 74€.                   207   \n",
       "19999 - Jupe (389g) - C: TR - ATR: 0% - 73€.                    78   \n",
       "20000 - Jupe (300g) - C: ROC - ATR: 100% - 17€.                 31   \n",
       "\n",
       "                                                 numberOfReferences  price  \\\n",
       "19991 - Jupe (359g) - C: ROC - ATR: 100% - 12€.               96150     12   \n",
       "19992 - Jupe (300g) - C: CN - ATR: 100% - 88€.                89150     88   \n",
       "19993 - Jupe (389g) - C: KH - ATR: 0% - 99€.                 137750     99   \n",
       "19994 - Jupe (329g) - C: BD - ATR: 0% - 62€.                  12150     62   \n",
       "19995 - Jupe (329g) - C: RAS - ATR: 100% - 84€.              133350     84   \n",
       "19996 - Jupe (329g) - C: RME - ATR: 0% - 84€.                 33550     84   \n",
       "19997 - Jupe (359g) - C: BD - ATR: 33% - 38€.                 48750     38   \n",
       "19998 - Jupe (329g) - C: VN - ATR: 0% - 74€.                  69350     74   \n",
       "19999 - Jupe (389g) - C: TR - ATR: 0% - 73€.                 140150     73   \n",
       "20000 - Jupe (300g) - C: ROC - ATR: 100% - 17€.              132350     17   \n",
       "\n",
       "                                                 traceability  \\\n",
       "19991 - Jupe (359g) - C: ROC - ATR: 100% - 12€.          True   \n",
       "19992 - Jupe (300g) - C: CN - ATR: 100% - 88€.           True   \n",
       "19993 - Jupe (389g) - C: KH - ATR: 0% - 99€.            False   \n",
       "19994 - Jupe (329g) - C: BD - ATR: 0% - 62€.            False   \n",
       "19995 - Jupe (329g) - C: RAS - ATR: 100% - 84€.          True   \n",
       "19996 - Jupe (329g) - C: RME - ATR: 0% - 84€.           False   \n",
       "19997 - Jupe (359g) - C: BD - ATR: 33% - 38€.            True   \n",
       "19998 - Jupe (329g) - C: VN - ATR: 0% - 74€.            False   \n",
       "19999 - Jupe (389g) - C: TR - ATR: 0% - 73€.            False   \n",
       "20000 - Jupe (300g) - C: ROC - ATR: 100% - 17€.         False   \n",
       "\n",
       "                                                                                       description  \\\n",
       "19991 - Jupe (359g) - C: ROC - ATR: 100% - 12€.  Jupe / Robe : 0,360kg, matière : 77% Coton pro...   \n",
       "19992 - Jupe (300g) - C: CN - ATR: 100% - 88€.   Jupe / Robe : 0,300kg, matière : 64% Coton pro...   \n",
       "19993 - Jupe (389g) - C: KH - ATR: 0% - 99€.     Jupe / Robe : 0,390kg, matière : 73% Polyester...   \n",
       "19994 - Jupe (329g) - C: BD - ATR: 0% - 62€.     Jupe / Robe : 0,330kg, matière : 68% Coton pro...   \n",
       "19995 - Jupe (329g) - C: RAS - ATR: 100% - 84€.  Jupe / Robe : 0,330kg, matière : 81% Coton pro...   \n",
       "19996 - Jupe (329g) - C: RME - ATR: 0% - 84€.    Jupe / Robe : 0,330kg, matière : 65% Polyester...   \n",
       "19997 - Jupe (359g) - C: BD - ATR: 33% - 38€.    Jupe / Robe : 0,360kg, matière : 65% Coton pro...   \n",
       "19998 - Jupe (329g) - C: VN - ATR: 0% - 74€.     Jupe / Robe : 0,330kg, matière : 80% Polyester...   \n",
       "19999 - Jupe (389g) - C: TR - ATR: 0% - 73€.     Jupe / Robe : 0,390kg, matière : 84% Polyester...   \n",
       "20000 - Jupe (300g) - C: ROC - ATR: 100% - 17€.  Jupe / Robe : 0,300kg, matière : 91% Lin prove...   \n",
       "\n",
       "                                                                                         materials  \\\n",
       "19991 - Jupe (359g) - C: ROC - ATR: 100% - 12€.  [{'id': 'ei-coton', 'share': 0.77}, {'id': 'ei...   \n",
       "19992 - Jupe (300g) - C: CN - ATR: 100% - 88€.   [{'id': 'ei-coton', 'share': 0.64}, {'id': 'ei...   \n",
       "19993 - Jupe (389g) - C: KH - ATR: 0% - 99€.     [{'id': 'ei-pet', 'share': 0.73}, {'id': 'ei-c...   \n",
       "19994 - Jupe (329g) - C: BD - ATR: 0% - 62€.     [{'id': 'ei-coton', 'share': 0.68}, {'id': 'ei...   \n",
       "19995 - Jupe (329g) - C: RAS - ATR: 100% - 84€.  [{'id': 'ei-coton', 'share': 0.81}, {'id': 'ei...   \n",
       "19996 - Jupe (329g) - C: RME - ATR: 0% - 84€.    [{'id': 'ei-pet', 'share': 0.65}, {'id': 'ei-l...   \n",
       "19997 - Jupe (359g) - C: BD - ATR: 33% - 38€.    [{'id': 'ei-coton', 'share': 0.65}, {'id': 'ei...   \n",
       "19998 - Jupe (329g) - C: VN - ATR: 0% - 74€.     [{'id': 'ei-pet', 'share': 0.8}, {'id': 'ei-li...   \n",
       "19999 - Jupe (389g) - C: TR - ATR: 0% - 73€.     [{'id': 'ei-pet', 'share': 0.84}, {'id': 'ei-c...   \n",
       "20000 - Jupe (300g) - C: ROC - ATR: 100% - 17€.  [{'id': 'ei-lin', 'share': 0.91}, {'id': 'ei-c...   \n",
       "\n",
       "                                                                        material_1  \\\n",
       "19991 - Jupe (359g) - C: ROC - ATR: 100% - 12€.  {'id': 'ei-coton', 'share': 0.77}   \n",
       "19992 - Jupe (300g) - C: CN - ATR: 100% - 88€.   {'id': 'ei-coton', 'share': 0.64}   \n",
       "19993 - Jupe (389g) - C: KH - ATR: 0% - 99€.       {'id': 'ei-pet', 'share': 0.73}   \n",
       "19994 - Jupe (329g) - C: BD - ATR: 0% - 62€.     {'id': 'ei-coton', 'share': 0.68}   \n",
       "19995 - Jupe (329g) - C: RAS - ATR: 100% - 84€.  {'id': 'ei-coton', 'share': 0.81}   \n",
       "19996 - Jupe (329g) - C: RME - ATR: 0% - 84€.      {'id': 'ei-pet', 'share': 0.65}   \n",
       "19997 - Jupe (359g) - C: BD - ATR: 33% - 38€.    {'id': 'ei-coton', 'share': 0.65}   \n",
       "19998 - Jupe (329g) - C: VN - ATR: 0% - 74€.        {'id': 'ei-pet', 'share': 0.8}   \n",
       "19999 - Jupe (389g) - C: TR - ATR: 0% - 73€.       {'id': 'ei-pet', 'share': 0.84}   \n",
       "20000 - Jupe (300g) - C: ROC - ATR: 100% - 17€.    {'id': 'ei-lin', 'share': 0.91}   \n",
       "\n",
       "                                                                          material_2  \\\n",
       "19991 - Jupe (359g) - C: ROC - ATR: 100% - 12€.       {'id': 'ei-lin', 'share': 0.1}   \n",
       "19992 - Jupe (300g) - C: CN - ATR: 100% - 88€.       {'id': 'ei-pet', 'share': 0.13}   \n",
       "19993 - Jupe (389g) - C: KH - ATR: 0% - 99€.     {'id': 'ei-chanvre', 'share': 0.17}   \n",
       "19994 - Jupe (329g) - C: BD - ATR: 0% - 62€.         {'id': 'ei-pet', 'share': 0.03}   \n",
       "19995 - Jupe (329g) - C: RAS - ATR: 100% - 84€.      {'id': 'ei-lin', 'share': 0.05}   \n",
       "19996 - Jupe (329g) - C: RME - ATR: 0% - 84€.        {'id': 'ei-lin', 'share': 0.17}   \n",
       "19997 - Jupe (359g) - C: BD - ATR: 33% - 38€.    {'id': 'ei-chanvre', 'share': 0.23}   \n",
       "19998 - Jupe (329g) - C: VN - ATR: 0% - 74€.         {'id': 'ei-lin', 'share': 0.05}   \n",
       "19999 - Jupe (389g) - C: TR - ATR: 0% - 73€.     {'id': 'ei-chanvre', 'share': 0.13}   \n",
       "20000 - Jupe (300g) - C: ROC - ATR: 100% - 17€.  {'id': 'ei-chanvre', 'share': 0.08}   \n",
       "\n",
       "                                                                          material_3  \n",
       "19991 - Jupe (359g) - C: ROC - ATR: 100% - 12€.  {'id': 'ei-viscose', 'share': 0.13}  \n",
       "19992 - Jupe (300g) - C: CN - ATR: 100% - 88€.       {'id': 'ei-lin', 'share': 0.23}  \n",
       "19993 - Jupe (389g) - C: KH - ATR: 0% - 99€.      {'id': 'ei-viscose', 'share': 0.1}  \n",
       "19994 - Jupe (329g) - C: BD - ATR: 0% - 62€.         {'id': 'ei-lin', 'share': 0.29}  \n",
       "19995 - Jupe (329g) - C: RAS - ATR: 100% - 84€.  {'id': 'ei-viscose', 'share': 0.14}  \n",
       "19996 - Jupe (329g) - C: RME - ATR: 0% - 84€.    {'id': 'ei-viscose', 'share': 0.18}  \n",
       "19997 - Jupe (359g) - C: BD - ATR: 33% - 38€.    {'id': 'ei-viscose', 'share': 0.12}  \n",
       "19998 - Jupe (329g) - C: VN - ATR: 0% - 74€.     {'id': 'ei-viscose', 'share': 0.15}  \n",
       "19999 - Jupe (389g) - C: TR - ATR: 0% - 73€.     {'id': 'ei-viscose', 'share': 0.03}  \n",
       "20000 - Jupe (300g) - C: ROC - ATR: 100% - 17€.  {'id': 'ei-viscose', 'share': 0.01}  "
      ]
     },
     "execution_count": 24,
     "metadata": {},
     "output_type": "execute_result"
    }
   ],
   "source": [
    "import pandas as pd\n",
    "import numpy as np\n",
    "\n",
    "import requests\n",
    "from requests.exceptions import RequestException\n",
    "\n",
    "# Import de la bibliothèque time et calcul du temps au début de l'exécution (t0)\n",
    "from time import time\n",
    "t0 = time()\n",
    "\n",
    "# Calcul de l'impact environnemental pour une liste de 'n' jupes générées aléatoirement (n=10 par défaut)\n",
    "df_results = create_random_jupes(20000)\n",
    "\n",
    "# Calcul du temps de la génération de liste aléatoire\n",
    "t1 = time() - t0\n",
    "\n",
    "# Affichage du résultat\n",
    "print(\"Liste d'impacts de Jupes générées aléatoirement (seules les 10 dernières lignes du résultat sont affichées).\" + '\\n')\n",
    "print('Nbre de ligne(s) du tableau résultat : ' + str(df_results.shape[0]) + '\\n')\n",
    "print(\"Réalisé en {} secondes\".format(round(t1,3)) + '\\n')\n",
    "df_results.tail(10)    \n",
    "    "
   ]
  },
  {
   "cell_type": "markdown",
   "id": "ff77bd3a-d36a-4b56-9dc8-89de66114c5d",
   "metadata": {},
   "source": [
    "|                                    | \n",
    "|:--:                                |\n",
    "| [(Retour au sommaire)](#summaryUp-3-A) |"
   ]
  },
  {
   "cell_type": "markdown",
   "id": "f1b9a97c-f053-4862-81ce-b3198dab4a00",
   "metadata": {},
   "source": [
    "### <a name=\"anchor04\" />Créer une BDD MongoDB Atlas"
   ]
  },
  {
   "cell_type": "markdown",
   "id": "d287e570-e2ab-42f3-8495-30b69106cf9f",
   "metadata": {
    "tags": []
   },
   "source": [
    "#### <a name=\"anchor04_C1-43\" /><u>Exemple</u> : Créer un cluster MongoDB Atlas et importer un fichier JSON ou CSV "
   ]
  },
  {
   "cell_type": "markdown",
   "id": "bf53c0e4-2fd8-4fcb-9a9f-d6bd7c9375eb",
   "metadata": {
    "tags": []
   },
   "source": [
    "<b>Créer un cluster MongoDB Atlas :</b>\n",
    "\n",
    "- Se connecter au compte MongoDB Atlas à l’adresse https://cloud.mongodb.com \n",
    "- Installer MongoDB Compass localement, sur son PC\n",
    "- Autoriser l'accès depuis n'importe quelle adresse IP"
   ]
  },
  {
   "cell_type": "markdown",
   "id": "310745f4-8bac-4d9f-a327-a8c426695fea",
   "metadata": {},
   "source": [
    "<img src=\"./10-mongoDB-Atlas_001.png\" alt=\"MongoDB Atlas - Network access\" style=\"width:800px;height:auto;\">"
   ]
  },
  {
   "cell_type": "markdown",
   "id": "cfd23fd7-ccbb-47b3-b845-2fb669763add",
   "metadata": {},
   "source": [
    "- Mettre à jour / Définir le mot de passe de l'utilisateur par défaut, pour l'accès à la BDD"
   ]
  },
  {
   "cell_type": "markdown",
   "id": "b1c15c52-52d2-45b6-bf2c-bfe053d7fe1f",
   "metadata": {},
   "source": [
    "<img src=\"./10-mongoDB-Atlas_002.png\" alt=\"MongoDB Atlas - Database access\" style=\"width:800px;height:auto;\">"
   ]
  },
  {
   "cell_type": "markdown",
   "id": "a4160d02-c1bb-43f1-96c8-bb4ffb6cf8c5",
   "metadata": {},
   "source": [
    "- Créer un Cluster, le type, le fournisseur, la région."
   ]
  },
  {
   "cell_type": "markdown",
   "id": "5272654b-c174-4046-aa1e-0a58c8d92646",
   "metadata": {},
   "source": [
    "<img src=\"./10-mongoDB-Atlas_003.png\" alt=\"MongoDB Atlas - Build a Cluster\" style=\"width:800px;height:auto;\">"
   ]
  },
  {
   "cell_type": "markdown",
   "id": "d4c79719-c2ca-4c34-a298-cca15602e48b",
   "metadata": {},
   "source": [
    "<img src=\"./10-mongoDB-Atlas_004.png\" alt=\"MongoDB Atlas - Database access\" style=\"width:800px;height:auto;\">"
   ]
  },
  {
   "cell_type": "markdown",
   "id": "8e45de84-2162-4c13-bf4f-46a1466600ae",
   "metadata": {},
   "source": [
    "- Préciser la méthode d''accès au Cluster"
   ]
  },
  {
   "cell_type": "markdown",
   "id": "296881f6-9779-4bf1-88c8-2271313b0e68",
   "metadata": {},
   "source": [
    "<img src=\"./10-mongoDB-Atlas_005.png\" alt=\"MongoDB Atlas - Database access\" style=\"width:600px;height:auto;\">"
   ]
  },
  {
   "cell_type": "markdown",
   "id": "95ba2149-4e4f-4bf0-8f63-a3862351bb39",
   "metadata": {},
   "source": [
    "- Se connecter au Cluster\n",
    "- Créer la Base de Données du Cluster, ainsi que la Collection"
   ]
  },
  {
   "cell_type": "markdown",
   "id": "b675764c-f2b3-45cd-bb11-f007cea1f05d",
   "metadata": {},
   "source": [
    "<img src=\"./10-mongoDB-Atlas_006.png\" alt=\"MongoDB Atlas - Database access\" style=\"width:600px;height:auto;\">"
   ]
  },
  {
   "cell_type": "markdown",
   "id": "1e607e8c-5831-4761-9427-93184ea61717",
   "metadata": {
    "tags": []
   },
   "source": [
    "<b>Importer un fichier JSON ou CSV dans MongoDB Atlas :</b>\n",
    "\n",
    "- Naviguer vers la collection cible.\n",
    "- Cliquer sur le menu déroulant “Ajouter des données” et sélectionner “Importer un fichier JSON ou CSV”.\n",
    "- Sélectionner le type de fichier approprié.\n",
    "- Sélectionner le fichier JSON ou CSV à importer et cliquer sur “Sélectionner”."
   ]
  },
  {
   "cell_type": "markdown",
   "id": "9254efd5-9cff-4de9-b794-8bd5eba20b04",
   "metadata": {
    "tags": []
   },
   "source": [
    "<img src=\"./10-mongoDB-Atlas_007.png\" alt=\"MongoDB Atlas - Database access\" style=\"width:800px;height:auto;\">"
   ]
  },
  {
   "cell_type": "markdown",
   "id": "f57070c5-1c2e-4aee-9e23-38645aaaecb3",
   "metadata": {
    "tags": []
   },
   "source": [
    "<img src=\"./10-mongoDB-Atlas_008.png\" alt=\"MongoDB Atlas - Database access\" style=\"width:800px;height:auto;\">"
   ]
  },
  {
   "cell_type": "markdown",
   "id": "eeb6fbb5-0a7f-4a65-9be0-a839bb5bfb80",
   "metadata": {
    "tags": []
   },
   "source": [
    "<img src=\"./10-mongoDB-Atlas_009.png\" alt=\"MongoDB Atlas - Database access\" style=\"width:800px;height:auto;\">"
   ]
  },
  {
   "cell_type": "markdown",
   "id": "682d66ac-a452-4ff8-b162-3488b3d60486",
   "metadata": {},
   "source": [
    "|                                    | \n",
    "|:--:                                |\n",
    "| [(Retour au sommaire)](#summaryUp-4-A) |"
   ]
  },
  {
   "cell_type": "markdown",
   "id": "0b322c91-7ca5-445c-9293-06aef4bf4749",
   "metadata": {},
   "source": [
    "<a name=\"anchorDown\" />\n",
    "\n",
    "##### PROJET : Impact Textile avec EcoBalyze - Collecte tshirt\n",
    "\n",
    "|                                          |                               |\n",
    "|:--:                                      |:--:                           |\n",
    "| [(Retour au sommaire)](#summaryUp)  | [(Aller au début)](#anchorUp) |"
   ]
  }
 ],
 "metadata": {
  "kernelspec": {
   "display_name": "Python 3 (ipykernel)",
   "language": "python",
   "name": "python3"
  },
  "language_info": {
   "codemirror_mode": {
    "name": "ipython",
    "version": 3
   },
   "file_extension": ".py",
   "mimetype": "text/x-python",
   "name": "python",
   "nbconvert_exporter": "python",
   "pygments_lexer": "ipython3",
   "version": "3.11.1"
  }
 },
 "nbformat": 4,
 "nbformat_minor": 5
}
